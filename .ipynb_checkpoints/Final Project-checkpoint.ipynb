{
 "cells": [
  {
   "cell_type": "markdown",
   "metadata": {},
   "source": [
    "## Jungwoo Cho, Lisa Chu, Tiffany Koo"
   ]
  },
  {
   "cell_type": "code",
   "execution_count": 1,
   "metadata": {},
   "outputs": [],
   "source": [
    "import pandas as pd\n",
    "import plotly.graph_objects as go"
   ]
  },
  {
   "cell_type": "markdown",
   "metadata": {},
   "source": [
    "### Cleaning data"
   ]
  },
  {
   "cell_type": "code",
   "execution_count": 4,
   "metadata": {},
   "outputs": [
    {
     "data": {
      "text/html": [
       "<div>\n",
       "<style scoped>\n",
       "    .dataframe tbody tr th:only-of-type {\n",
       "        vertical-align: middle;\n",
       "    }\n",
       "\n",
       "    .dataframe tbody tr th {\n",
       "        vertical-align: top;\n",
       "    }\n",
       "\n",
       "    .dataframe thead th {\n",
       "        text-align: right;\n",
       "    }\n",
       "</style>\n",
       "<table border=\"1\" class=\"dataframe\">\n",
       "  <thead>\n",
       "    <tr style=\"text-align: right;\">\n",
       "      <th></th>\n",
       "      <th>state</th>\n",
       "      <th>positive</th>\n",
       "      <th>negative</th>\n",
       "      <th>death</th>\n",
       "      <th>totalTestResults</th>\n",
       "      <th>lat</th>\n",
       "      <th>long</th>\n",
       "      <th>posText</th>\n",
       "      <th>negText</th>\n",
       "      <th>deaText</th>\n",
       "      <th>testText</th>\n",
       "    </tr>\n",
       "  </thead>\n",
       "  <tbody>\n",
       "    <tr>\n",
       "      <th>0</th>\n",
       "      <td>AK</td>\n",
       "      <td>364</td>\n",
       "      <td>19961</td>\n",
       "      <td>9</td>\n",
       "      <td>20325</td>\n",
       "      <td>61.302501</td>\n",
       "      <td>-158.775020</td>\n",
       "      <td>AK Positive Cases: 364</td>\n",
       "      <td>AK Negative Cases: 19961</td>\n",
       "      <td>AK Deaths: 9</td>\n",
       "      <td>AK Tests: 20325</td>\n",
       "    </tr>\n",
       "    <tr>\n",
       "      <th>1</th>\n",
       "      <td>AL</td>\n",
       "      <td>7158</td>\n",
       "      <td>84775</td>\n",
       "      <td>279</td>\n",
       "      <td>91933</td>\n",
       "      <td>32.601011</td>\n",
       "      <td>-86.680736</td>\n",
       "      <td>AL Positive Cases: 7158</td>\n",
       "      <td>AL Negative Cases: 84775</td>\n",
       "      <td>AL Deaths: 279</td>\n",
       "      <td>AL Tests: 91933</td>\n",
       "    </tr>\n",
       "    <tr>\n",
       "      <th>2</th>\n",
       "      <td>AR</td>\n",
       "      <td>3321</td>\n",
       "      <td>46355</td>\n",
       "      <td>64</td>\n",
       "      <td>49676</td>\n",
       "      <td>34.751928</td>\n",
       "      <td>-92.131378</td>\n",
       "      <td>AR Positive Cases: 3321</td>\n",
       "      <td>AR Negative Cases: 46355</td>\n",
       "      <td>AR Deaths: 64</td>\n",
       "      <td>AR Tests: 49676</td>\n",
       "    </tr>\n",
       "    <tr>\n",
       "      <th>3</th>\n",
       "      <td>AZ</td>\n",
       "      <td>7962</td>\n",
       "      <td>66917</td>\n",
       "      <td>330</td>\n",
       "      <td>74879</td>\n",
       "      <td>34.168219</td>\n",
       "      <td>-111.930907</td>\n",
       "      <td>AZ Positive Cases: 7962</td>\n",
       "      <td>AZ Negative Cases: 66917</td>\n",
       "      <td>AZ Deaths: 330</td>\n",
       "      <td>AZ Tests: 74879</td>\n",
       "    </tr>\n",
       "    <tr>\n",
       "      <th>4</th>\n",
       "      <td>CA</td>\n",
       "      <td>50442</td>\n",
       "      <td>604543</td>\n",
       "      <td>2073</td>\n",
       "      <td>654985</td>\n",
       "      <td>37.271875</td>\n",
       "      <td>-119.270415</td>\n",
       "      <td>CA Positive Cases: 50442</td>\n",
       "      <td>CA Negative Cases: 604543</td>\n",
       "      <td>CA Deaths: 2073</td>\n",
       "      <td>CA Tests: 654985</td>\n",
       "    </tr>\n",
       "    <tr>\n",
       "      <th>5</th>\n",
       "      <td>CO</td>\n",
       "      <td>15284</td>\n",
       "      <td>57106</td>\n",
       "      <td>777</td>\n",
       "      <td>72390</td>\n",
       "      <td>38.997934</td>\n",
       "      <td>-105.550567</td>\n",
       "      <td>CO Positive Cases: 15284</td>\n",
       "      <td>CO Negative Cases: 57106</td>\n",
       "      <td>CO Deaths: 777</td>\n",
       "      <td>CO Tests: 72390</td>\n",
       "    </tr>\n",
       "    <tr>\n",
       "      <th>6</th>\n",
       "      <td>CT</td>\n",
       "      <td>28764</td>\n",
       "      <td>71493</td>\n",
       "      <td>2339</td>\n",
       "      <td>100257</td>\n",
       "      <td>41.518784</td>\n",
       "      <td>-72.757507</td>\n",
       "      <td>CT Positive Cases: 28764</td>\n",
       "      <td>CT Negative Cases: 71493</td>\n",
       "      <td>CT Deaths: 2339</td>\n",
       "      <td>CT Tests: 100257</td>\n",
       "    </tr>\n",
       "    <tr>\n",
       "      <th>7</th>\n",
       "      <td>DE</td>\n",
       "      <td>4918</td>\n",
       "      <td>17667</td>\n",
       "      <td>159</td>\n",
       "      <td>22585</td>\n",
       "      <td>39.145251</td>\n",
       "      <td>-75.418921</td>\n",
       "      <td>DE Positive Cases: 4918</td>\n",
       "      <td>DE Negative Cases: 17667</td>\n",
       "      <td>DE Deaths: 159</td>\n",
       "      <td>DE Tests: 22585</td>\n",
       "    </tr>\n",
       "    <tr>\n",
       "      <th>8</th>\n",
       "      <td>FL</td>\n",
       "      <td>34728</td>\n",
       "      <td>367971</td>\n",
       "      <td>1314</td>\n",
       "      <td>402699</td>\n",
       "      <td>27.975728</td>\n",
       "      <td>-81.533017</td>\n",
       "      <td>FL Positive Cases: 34728</td>\n",
       "      <td>FL Negative Cases: 367971</td>\n",
       "      <td>FL Deaths: 1314</td>\n",
       "      <td>FL Tests: 402699</td>\n",
       "    </tr>\n",
       "    <tr>\n",
       "      <th>9</th>\n",
       "      <td>GA</td>\n",
       "      <td>27270</td>\n",
       "      <td>141097</td>\n",
       "      <td>1154</td>\n",
       "      <td>168367</td>\n",
       "      <td>32.678125</td>\n",
       "      <td>-83.222976</td>\n",
       "      <td>GA Positive Cases: 27270</td>\n",
       "      <td>GA Negative Cases: 141097</td>\n",
       "      <td>GA Deaths: 1154</td>\n",
       "      <td>GA Tests: 168367</td>\n",
       "    </tr>\n",
       "    <tr>\n",
       "      <th>10</th>\n",
       "      <td>HI</td>\n",
       "      <td>618</td>\n",
       "      <td>30476</td>\n",
       "      <td>16</td>\n",
       "      <td>31094</td>\n",
       "      <td>20.460000</td>\n",
       "      <td>-157.505000</td>\n",
       "      <td>HI Positive Cases: 618</td>\n",
       "      <td>HI Negative Cases: 30476</td>\n",
       "      <td>HI Deaths: 16</td>\n",
       "      <td>HI Tests: 31094</td>\n",
       "    </tr>\n",
       "    <tr>\n",
       "      <th>11</th>\n",
       "      <td>IA</td>\n",
       "      <td>7884</td>\n",
       "      <td>37708</td>\n",
       "      <td>170</td>\n",
       "      <td>45592</td>\n",
       "      <td>41.938317</td>\n",
       "      <td>-93.389798</td>\n",
       "      <td>IA Positive Cases: 7884</td>\n",
       "      <td>IA Negative Cases: 37708</td>\n",
       "      <td>IA Deaths: 170</td>\n",
       "      <td>IA Tests: 45592</td>\n",
       "    </tr>\n",
       "    <tr>\n",
       "      <th>12</th>\n",
       "      <td>ID</td>\n",
       "      <td>2015</td>\n",
       "      <td>27210</td>\n",
       "      <td>63</td>\n",
       "      <td>29225</td>\n",
       "      <td>43.494576</td>\n",
       "      <td>-114.142430</td>\n",
       "      <td>ID Positive Cases: 2015</td>\n",
       "      <td>ID Negative Cases: 27210</td>\n",
       "      <td>ID Deaths: 63</td>\n",
       "      <td>ID Tests: 29225</td>\n",
       "    </tr>\n",
       "    <tr>\n",
       "      <th>13</th>\n",
       "      <td>IL</td>\n",
       "      <td>56055</td>\n",
       "      <td>228633</td>\n",
       "      <td>2457</td>\n",
       "      <td>284688</td>\n",
       "      <td>39.739318</td>\n",
       "      <td>-89.504139</td>\n",
       "      <td>IL Positive Cases: 56055</td>\n",
       "      <td>IL Negative Cases: 228633</td>\n",
       "      <td>IL Deaths: 2457</td>\n",
       "      <td>IL Tests: 284688</td>\n",
       "    </tr>\n",
       "    <tr>\n",
       "      <th>14</th>\n",
       "      <td>IN</td>\n",
       "      <td>18630</td>\n",
       "      <td>81009</td>\n",
       "      <td>1175</td>\n",
       "      <td>99639</td>\n",
       "      <td>39.766219</td>\n",
       "      <td>-86.441277</td>\n",
       "      <td>IN Positive Cases: 18630</td>\n",
       "      <td>IN Negative Cases: 81009</td>\n",
       "      <td>IN Deaths: 1175</td>\n",
       "      <td>IN Tests: 99639</td>\n",
       "    </tr>\n",
       "    <tr>\n",
       "      <th>15</th>\n",
       "      <td>KS</td>\n",
       "      <td>4449</td>\n",
       "      <td>28585</td>\n",
       "      <td>130</td>\n",
       "      <td>33034</td>\n",
       "      <td>38.498779</td>\n",
       "      <td>-98.320078</td>\n",
       "      <td>KS Positive Cases: 4449</td>\n",
       "      <td>KS Negative Cases: 28585</td>\n",
       "      <td>KS Deaths: 130</td>\n",
       "      <td>KS Tests: 33034</td>\n",
       "    </tr>\n",
       "    <tr>\n",
       "      <th>16</th>\n",
       "      <td>KY</td>\n",
       "      <td>4708</td>\n",
       "      <td>51904</td>\n",
       "      <td>240</td>\n",
       "      <td>56612</td>\n",
       "      <td>37.822294</td>\n",
       "      <td>-85.768240</td>\n",
       "      <td>KY Positive Cases: 4708</td>\n",
       "      <td>KY Negative Cases: 51904</td>\n",
       "      <td>KY Deaths: 240</td>\n",
       "      <td>KY Tests: 56612</td>\n",
       "    </tr>\n",
       "    <tr>\n",
       "      <th>17</th>\n",
       "      <td>LA</td>\n",
       "      <td>28711</td>\n",
       "      <td>139540</td>\n",
       "      <td>1927</td>\n",
       "      <td>168251</td>\n",
       "      <td>30.973377</td>\n",
       "      <td>-91.429910</td>\n",
       "      <td>LA Positive Cases: 28711</td>\n",
       "      <td>LA Negative Cases: 139540</td>\n",
       "      <td>LA Deaths: 1927</td>\n",
       "      <td>LA Tests: 168251</td>\n",
       "    </tr>\n",
       "    <tr>\n",
       "      <th>18</th>\n",
       "      <td>MA</td>\n",
       "      <td>64311</td>\n",
       "      <td>225325</td>\n",
       "      <td>3716</td>\n",
       "      <td>289636</td>\n",
       "      <td>42.462940</td>\n",
       "      <td>-71.718067</td>\n",
       "      <td>MA Positive Cases: 64311</td>\n",
       "      <td>MA Negative Cases: 225325</td>\n",
       "      <td>MA Deaths: 3716</td>\n",
       "      <td>MA Tests: 289636</td>\n",
       "    </tr>\n",
       "    <tr>\n",
       "      <th>19</th>\n",
       "      <td>MD</td>\n",
       "      <td>23472</td>\n",
       "      <td>97511</td>\n",
       "      <td>1192</td>\n",
       "      <td>120983</td>\n",
       "      <td>38.806352</td>\n",
       "      <td>-77.268416</td>\n",
       "      <td>MD Positive Cases: 23472</td>\n",
       "      <td>MD Negative Cases: 97511</td>\n",
       "      <td>MD Deaths: 1192</td>\n",
       "      <td>MD Tests: 120983</td>\n",
       "    </tr>\n",
       "    <tr>\n",
       "      <th>20</th>\n",
       "      <td>ME</td>\n",
       "      <td>1123</td>\n",
       "      <td>19546</td>\n",
       "      <td>55</td>\n",
       "      <td>20669</td>\n",
       "      <td>45.218513</td>\n",
       "      <td>-69.014866</td>\n",
       "      <td>ME Positive Cases: 1123</td>\n",
       "      <td>ME Negative Cases: 19546</td>\n",
       "      <td>ME Deaths: 55</td>\n",
       "      <td>ME Tests: 20669</td>\n",
       "    </tr>\n",
       "    <tr>\n",
       "      <th>21</th>\n",
       "      <td>MI</td>\n",
       "      <td>42356</td>\n",
       "      <td>148149</td>\n",
       "      <td>3866</td>\n",
       "      <td>190505</td>\n",
       "      <td>44.943560</td>\n",
       "      <td>-86.415805</td>\n",
       "      <td>MI Positive Cases: 42356</td>\n",
       "      <td>MI Negative Cases: 148149</td>\n",
       "      <td>MI Deaths: 3866</td>\n",
       "      <td>MI Tests: 190505</td>\n",
       "    </tr>\n",
       "    <tr>\n",
       "      <th>22</th>\n",
       "      <td>MN</td>\n",
       "      <td>5730</td>\n",
       "      <td>69099</td>\n",
       "      <td>371</td>\n",
       "      <td>74829</td>\n",
       "      <td>46.441859</td>\n",
       "      <td>-93.365515</td>\n",
       "      <td>MN Positive Cases: 5730</td>\n",
       "      <td>MN Negative Cases: 69099</td>\n",
       "      <td>MN Deaths: 371</td>\n",
       "      <td>MN Tests: 74829</td>\n",
       "    </tr>\n",
       "    <tr>\n",
       "      <th>23</th>\n",
       "      <td>MO</td>\n",
       "      <td>7835</td>\n",
       "      <td>74590</td>\n",
       "      <td>337</td>\n",
       "      <td>82425</td>\n",
       "      <td>38.304662</td>\n",
       "      <td>-92.437099</td>\n",
       "      <td>MO Positive Cases: 7835</td>\n",
       "      <td>MO Negative Cases: 74590</td>\n",
       "      <td>MO Deaths: 337</td>\n",
       "      <td>MO Tests: 82425</td>\n",
       "    </tr>\n",
       "    <tr>\n",
       "      <th>24</th>\n",
       "      <td>MS</td>\n",
       "      <td>7212</td>\n",
       "      <td>64336</td>\n",
       "      <td>281</td>\n",
       "      <td>71548</td>\n",
       "      <td>32.585106</td>\n",
       "      <td>-89.877220</td>\n",
       "      <td>MS Positive Cases: 7212</td>\n",
       "      <td>MS Negative Cases: 64336</td>\n",
       "      <td>MS Deaths: 281</td>\n",
       "      <td>MS Tests: 71548</td>\n",
       "    </tr>\n",
       "    <tr>\n",
       "      <th>25</th>\n",
       "      <td>MT</td>\n",
       "      <td>453</td>\n",
       "      <td>13750</td>\n",
       "      <td>16</td>\n",
       "      <td>14203</td>\n",
       "      <td>46.679800</td>\n",
       "      <td>-110.044783</td>\n",
       "      <td>MT Positive Cases: 453</td>\n",
       "      <td>MT Negative Cases: 13750</td>\n",
       "      <td>MT Deaths: 16</td>\n",
       "      <td>MT Tests: 14203</td>\n",
       "    </tr>\n",
       "    <tr>\n",
       "      <th>26</th>\n",
       "      <td>NC</td>\n",
       "      <td>10923</td>\n",
       "      <td>122909</td>\n",
       "      <td>399</td>\n",
       "      <td>133832</td>\n",
       "      <td>35.214563</td>\n",
       "      <td>-79.891267</td>\n",
       "      <td>NC Positive Cases: 10923</td>\n",
       "      <td>NC Negative Cases: 122909</td>\n",
       "      <td>NC Deaths: 399</td>\n",
       "      <td>NC Tests: 133832</td>\n",
       "    </tr>\n",
       "    <tr>\n",
       "      <th>27</th>\n",
       "      <td>ND</td>\n",
       "      <td>1107</td>\n",
       "      <td>28418</td>\n",
       "      <td>23</td>\n",
       "      <td>29525</td>\n",
       "      <td>47.467882</td>\n",
       "      <td>-100.302266</td>\n",
       "      <td>ND Positive Cases: 1107</td>\n",
       "      <td>ND Negative Cases: 28418</td>\n",
       "      <td>ND Deaths: 23</td>\n",
       "      <td>ND Tests: 29525</td>\n",
       "    </tr>\n",
       "    <tr>\n",
       "      <th>28</th>\n",
       "      <td>NE</td>\n",
       "      <td>4281</td>\n",
       "      <td>23104</td>\n",
       "      <td>70</td>\n",
       "      <td>27385</td>\n",
       "      <td>41.500819</td>\n",
       "      <td>-99.680902</td>\n",
       "      <td>NE Positive Cases: 4281</td>\n",
       "      <td>NE Negative Cases: 23104</td>\n",
       "      <td>NE Deaths: 70</td>\n",
       "      <td>NE Tests: 27385</td>\n",
       "    </tr>\n",
       "    <tr>\n",
       "      <th>29</th>\n",
       "      <td>NH</td>\n",
       "      <td>2146</td>\n",
       "      <td>19903</td>\n",
       "      <td>72</td>\n",
       "      <td>22049</td>\n",
       "      <td>44.001231</td>\n",
       "      <td>-71.579923</td>\n",
       "      <td>NH Positive Cases: 2146</td>\n",
       "      <td>NH Negative Cases: 19903</td>\n",
       "      <td>NH Deaths: 72</td>\n",
       "      <td>NH Tests: 22049</td>\n",
       "    </tr>\n",
       "    <tr>\n",
       "      <th>30</th>\n",
       "      <td>NJ</td>\n",
       "      <td>121190</td>\n",
       "      <td>135355</td>\n",
       "      <td>7538</td>\n",
       "      <td>256545</td>\n",
       "      <td>40.143006</td>\n",
       "      <td>-74.731116</td>\n",
       "      <td>NJ Positive Cases: 121190</td>\n",
       "      <td>NJ Negative Cases: 135355</td>\n",
       "      <td>NJ Deaths: 7538</td>\n",
       "      <td>NJ Tests: 256545</td>\n",
       "    </tr>\n",
       "    <tr>\n",
       "      <th>31</th>\n",
       "      <td>NM</td>\n",
       "      <td>3411</td>\n",
       "      <td>64458</td>\n",
       "      <td>123</td>\n",
       "      <td>67869</td>\n",
       "      <td>34.166232</td>\n",
       "      <td>-106.026069</td>\n",
       "      <td>NM Positive Cases: 3411</td>\n",
       "      <td>NM Negative Cases: 64458</td>\n",
       "      <td>NM Deaths: 123</td>\n",
       "      <td>NM Tests: 67869</td>\n",
       "    </tr>\n",
       "    <tr>\n",
       "      <th>32</th>\n",
       "      <td>NV</td>\n",
       "      <td>5227</td>\n",
       "      <td>38368</td>\n",
       "      <td>243</td>\n",
       "      <td>43595</td>\n",
       "      <td>38.502032</td>\n",
       "      <td>-117.023060</td>\n",
       "      <td>NV Positive Cases: 5227</td>\n",
       "      <td>NV Negative Cases: 38368</td>\n",
       "      <td>NV Deaths: 243</td>\n",
       "      <td>NV Tests: 43595</td>\n",
       "    </tr>\n",
       "    <tr>\n",
       "      <th>33</th>\n",
       "      <td>NY</td>\n",
       "      <td>308314</td>\n",
       "      <td>619124</td>\n",
       "      <td>18610</td>\n",
       "      <td>927438</td>\n",
       "      <td>42.705626</td>\n",
       "      <td>-74.979680</td>\n",
       "      <td>NY Positive Cases: 308314</td>\n",
       "      <td>NY Negative Cases: 619124</td>\n",
       "      <td>NY Deaths: 18610</td>\n",
       "      <td>NY Tests: 927438</td>\n",
       "    </tr>\n",
       "    <tr>\n",
       "      <th>34</th>\n",
       "      <td>OH</td>\n",
       "      <td>18743</td>\n",
       "      <td>121763</td>\n",
       "      <td>1002</td>\n",
       "      <td>140506</td>\n",
       "      <td>40.190362</td>\n",
       "      <td>-82.669252</td>\n",
       "      <td>OH Positive Cases: 18743</td>\n",
       "      <td>OH Negative Cases: 121763</td>\n",
       "      <td>OH Deaths: 1002</td>\n",
       "      <td>OH Tests: 140506</td>\n",
       "    </tr>\n",
       "    <tr>\n",
       "      <th>35</th>\n",
       "      <td>OK</td>\n",
       "      <td>3748</td>\n",
       "      <td>59804</td>\n",
       "      <td>230</td>\n",
       "      <td>63552</td>\n",
       "      <td>35.309765</td>\n",
       "      <td>-98.716558</td>\n",
       "      <td>OK Positive Cases: 3748</td>\n",
       "      <td>OK Negative Cases: 59804</td>\n",
       "      <td>OK Deaths: 230</td>\n",
       "      <td>OK Tests: 63552</td>\n",
       "    </tr>\n",
       "    <tr>\n",
       "      <th>36</th>\n",
       "      <td>OR</td>\n",
       "      <td>2579</td>\n",
       "      <td>55597</td>\n",
       "      <td>104</td>\n",
       "      <td>58176</td>\n",
       "      <td>44.141905</td>\n",
       "      <td>-120.538099</td>\n",
       "      <td>OR Positive Cases: 2579</td>\n",
       "      <td>OR Negative Cases: 55597</td>\n",
       "      <td>OR Deaths: 104</td>\n",
       "      <td>OR Tests: 58176</td>\n",
       "    </tr>\n",
       "    <tr>\n",
       "      <th>37</th>\n",
       "      <td>PA</td>\n",
       "      <td>46971</td>\n",
       "      <td>180477</td>\n",
       "      <td>2354</td>\n",
       "      <td>227448</td>\n",
       "      <td>40.994593</td>\n",
       "      <td>-77.604698</td>\n",
       "      <td>PA Positive Cases: 46971</td>\n",
       "      <td>PA Negative Cases: 180477</td>\n",
       "      <td>PA Deaths: 2354</td>\n",
       "      <td>PA Tests: 227448</td>\n",
       "    </tr>\n",
       "    <tr>\n",
       "      <th>38</th>\n",
       "      <td>RI</td>\n",
       "      <td>8962</td>\n",
       "      <td>57686</td>\n",
       "      <td>279</td>\n",
       "      <td>66648</td>\n",
       "      <td>41.582728</td>\n",
       "      <td>-71.506451</td>\n",
       "      <td>RI Positive Cases: 8962</td>\n",
       "      <td>RI Negative Cases: 57686</td>\n",
       "      <td>RI Deaths: 279</td>\n",
       "      <td>RI Tests: 66648</td>\n",
       "    </tr>\n",
       "    <tr>\n",
       "      <th>39</th>\n",
       "      <td>SC</td>\n",
       "      <td>6258</td>\n",
       "      <td>53121</td>\n",
       "      <td>256</td>\n",
       "      <td>59379</td>\n",
       "      <td>33.625050</td>\n",
       "      <td>-80.947038</td>\n",
       "      <td>SC Positive Cases: 6258</td>\n",
       "      <td>SC Negative Cases: 53121</td>\n",
       "      <td>SC Deaths: 256</td>\n",
       "      <td>SC Tests: 59379</td>\n",
       "    </tr>\n",
       "    <tr>\n",
       "      <th>40</th>\n",
       "      <td>SD</td>\n",
       "      <td>2525</td>\n",
       "      <td>14838</td>\n",
       "      <td>21</td>\n",
       "      <td>17363</td>\n",
       "      <td>44.212699</td>\n",
       "      <td>-100.247164</td>\n",
       "      <td>SD Positive Cases: 2525</td>\n",
       "      <td>SD Negative Cases: 14838</td>\n",
       "      <td>SD Deaths: 21</td>\n",
       "      <td>SD Tests: 17363</td>\n",
       "    </tr>\n",
       "    <tr>\n",
       "      <th>41</th>\n",
       "      <td>TN</td>\n",
       "      <td>11891</td>\n",
       "      <td>174241</td>\n",
       "      <td>204</td>\n",
       "      <td>186132</td>\n",
       "      <td>35.830521</td>\n",
       "      <td>-85.978599</td>\n",
       "      <td>TN Positive Cases: 11891</td>\n",
       "      <td>TN Negative Cases: 174241</td>\n",
       "      <td>TN Deaths: 204</td>\n",
       "      <td>TN Tests: 186132</td>\n",
       "    </tr>\n",
       "    <tr>\n",
       "      <th>42</th>\n",
       "      <td>TX</td>\n",
       "      <td>29229</td>\n",
       "      <td>322546</td>\n",
       "      <td>816</td>\n",
       "      <td>351775</td>\n",
       "      <td>31.169336</td>\n",
       "      <td>-100.076842</td>\n",
       "      <td>TX Positive Cases: 29229</td>\n",
       "      <td>TX Negative Cases: 322546</td>\n",
       "      <td>TX Deaths: 816</td>\n",
       "      <td>TX Tests: 351775</td>\n",
       "    </tr>\n",
       "    <tr>\n",
       "      <th>43</th>\n",
       "      <td>UT</td>\n",
       "      <td>4828</td>\n",
       "      <td>107730</td>\n",
       "      <td>46</td>\n",
       "      <td>112558</td>\n",
       "      <td>39.499761</td>\n",
       "      <td>-111.547028</td>\n",
       "      <td>UT Positive Cases: 4828</td>\n",
       "      <td>UT Negative Cases: 107730</td>\n",
       "      <td>UT Deaths: 46</td>\n",
       "      <td>UT Tests: 112558</td>\n",
       "    </tr>\n",
       "    <tr>\n",
       "      <th>44</th>\n",
       "      <td>VA</td>\n",
       "      <td>16901</td>\n",
       "      <td>88747</td>\n",
       "      <td>581</td>\n",
       "      <td>105648</td>\n",
       "      <td>38.003386</td>\n",
       "      <td>-79.458786</td>\n",
       "      <td>VA Positive Cases: 16901</td>\n",
       "      <td>VA Negative Cases: 88747</td>\n",
       "      <td>VA Deaths: 581</td>\n",
       "      <td>VA Tests: 105648</td>\n",
       "    </tr>\n",
       "    <tr>\n",
       "      <th>45</th>\n",
       "      <td>VT</td>\n",
       "      <td>879</td>\n",
       "      <td>15354</td>\n",
       "      <td>50</td>\n",
       "      <td>16233</td>\n",
       "      <td>43.871755</td>\n",
       "      <td>-72.447783</td>\n",
       "      <td>VT Positive Cases: 879</td>\n",
       "      <td>VT Negative Cases: 15354</td>\n",
       "      <td>VT Deaths: 50</td>\n",
       "      <td>VT Tests: 16233</td>\n",
       "    </tr>\n",
       "    <tr>\n",
       "      <th>46</th>\n",
       "      <td>WA</td>\n",
       "      <td>14327</td>\n",
       "      <td>179654</td>\n",
       "      <td>814</td>\n",
       "      <td>193981</td>\n",
       "      <td>47.751100</td>\n",
       "      <td>-120.740100</td>\n",
       "      <td>WA Positive Cases: 14327</td>\n",
       "      <td>WA Negative Cases: 179654</td>\n",
       "      <td>WA Deaths: 814</td>\n",
       "      <td>WA Tests: 193981</td>\n",
       "    </tr>\n",
       "    <tr>\n",
       "      <th>47</th>\n",
       "      <td>WI</td>\n",
       "      <td>7314</td>\n",
       "      <td>72566</td>\n",
       "      <td>327</td>\n",
       "      <td>79880</td>\n",
       "      <td>44.786297</td>\n",
       "      <td>-89.826705</td>\n",
       "      <td>WI Positive Cases: 7314</td>\n",
       "      <td>WI Negative Cases: 72566</td>\n",
       "      <td>WI Deaths: 327</td>\n",
       "      <td>WI Tests: 79880</td>\n",
       "    </tr>\n",
       "    <tr>\n",
       "      <th>48</th>\n",
       "      <td>WV</td>\n",
       "      <td>1136</td>\n",
       "      <td>45708</td>\n",
       "      <td>46</td>\n",
       "      <td>46844</td>\n",
       "      <td>38.920171</td>\n",
       "      <td>-80.181691</td>\n",
       "      <td>WV Positive Cases: 1136</td>\n",
       "      <td>WV Negative Cases: 45708</td>\n",
       "      <td>WV Deaths: 46</td>\n",
       "      <td>WV Tests: 46844</td>\n",
       "    </tr>\n",
       "    <tr>\n",
       "      <th>49</th>\n",
       "      <td>WY</td>\n",
       "      <td>559</td>\n",
       "      <td>9136</td>\n",
       "      <td>7</td>\n",
       "      <td>9695</td>\n",
       "      <td>43.000325</td>\n",
       "      <td>-107.554567</td>\n",
       "      <td>WY Positive Cases: 559</td>\n",
       "      <td>WY Negative Cases: 9136</td>\n",
       "      <td>WY Deaths: 7</td>\n",
       "      <td>WY Tests: 9695</td>\n",
       "    </tr>\n",
       "  </tbody>\n",
       "</table>\n",
       "</div>"
      ],
      "text/plain": [
       "   state  positive  negative  death  totalTestResults        lat        long  \\\n",
       "0     AK       364     19961      9             20325  61.302501 -158.775020   \n",
       "1     AL      7158     84775    279             91933  32.601011  -86.680736   \n",
       "2     AR      3321     46355     64             49676  34.751928  -92.131378   \n",
       "3     AZ      7962     66917    330             74879  34.168219 -111.930907   \n",
       "4     CA     50442    604543   2073            654985  37.271875 -119.270415   \n",
       "5     CO     15284     57106    777             72390  38.997934 -105.550567   \n",
       "6     CT     28764     71493   2339            100257  41.518784  -72.757507   \n",
       "7     DE      4918     17667    159             22585  39.145251  -75.418921   \n",
       "8     FL     34728    367971   1314            402699  27.975728  -81.533017   \n",
       "9     GA     27270    141097   1154            168367  32.678125  -83.222976   \n",
       "10    HI       618     30476     16             31094  20.460000 -157.505000   \n",
       "11    IA      7884     37708    170             45592  41.938317  -93.389798   \n",
       "12    ID      2015     27210     63             29225  43.494576 -114.142430   \n",
       "13    IL     56055    228633   2457            284688  39.739318  -89.504139   \n",
       "14    IN     18630     81009   1175             99639  39.766219  -86.441277   \n",
       "15    KS      4449     28585    130             33034  38.498779  -98.320078   \n",
       "16    KY      4708     51904    240             56612  37.822294  -85.768240   \n",
       "17    LA     28711    139540   1927            168251  30.973377  -91.429910   \n",
       "18    MA     64311    225325   3716            289636  42.462940  -71.718067   \n",
       "19    MD     23472     97511   1192            120983  38.806352  -77.268416   \n",
       "20    ME      1123     19546     55             20669  45.218513  -69.014866   \n",
       "21    MI     42356    148149   3866            190505  44.943560  -86.415805   \n",
       "22    MN      5730     69099    371             74829  46.441859  -93.365515   \n",
       "23    MO      7835     74590    337             82425  38.304662  -92.437099   \n",
       "24    MS      7212     64336    281             71548  32.585106  -89.877220   \n",
       "25    MT       453     13750     16             14203  46.679800 -110.044783   \n",
       "26    NC     10923    122909    399            133832  35.214563  -79.891267   \n",
       "27    ND      1107     28418     23             29525  47.467882 -100.302266   \n",
       "28    NE      4281     23104     70             27385  41.500819  -99.680902   \n",
       "29    NH      2146     19903     72             22049  44.001231  -71.579923   \n",
       "30    NJ    121190    135355   7538            256545  40.143006  -74.731116   \n",
       "31    NM      3411     64458    123             67869  34.166232 -106.026069   \n",
       "32    NV      5227     38368    243             43595  38.502032 -117.023060   \n",
       "33    NY    308314    619124  18610            927438  42.705626  -74.979680   \n",
       "34    OH     18743    121763   1002            140506  40.190362  -82.669252   \n",
       "35    OK      3748     59804    230             63552  35.309765  -98.716558   \n",
       "36    OR      2579     55597    104             58176  44.141905 -120.538099   \n",
       "37    PA     46971    180477   2354            227448  40.994593  -77.604698   \n",
       "38    RI      8962     57686    279             66648  41.582728  -71.506451   \n",
       "39    SC      6258     53121    256             59379  33.625050  -80.947038   \n",
       "40    SD      2525     14838     21             17363  44.212699 -100.247164   \n",
       "41    TN     11891    174241    204            186132  35.830521  -85.978599   \n",
       "42    TX     29229    322546    816            351775  31.169336 -100.076842   \n",
       "43    UT      4828    107730     46            112558  39.499761 -111.547028   \n",
       "44    VA     16901     88747    581            105648  38.003386  -79.458786   \n",
       "45    VT       879     15354     50             16233  43.871755  -72.447783   \n",
       "46    WA     14327    179654    814            193981  47.751100 -120.740100   \n",
       "47    WI      7314     72566    327             79880  44.786297  -89.826705   \n",
       "48    WV      1136     45708     46             46844  38.920171  -80.181691   \n",
       "49    WY       559      9136      7              9695  43.000325 -107.554567   \n",
       "\n",
       "                      posText                    negText           deaText  \\\n",
       "0      AK Positive Cases: 364   AK Negative Cases: 19961      AK Deaths: 9   \n",
       "1     AL Positive Cases: 7158   AL Negative Cases: 84775    AL Deaths: 279   \n",
       "2     AR Positive Cases: 3321   AR Negative Cases: 46355     AR Deaths: 64   \n",
       "3     AZ Positive Cases: 7962   AZ Negative Cases: 66917    AZ Deaths: 330   \n",
       "4    CA Positive Cases: 50442  CA Negative Cases: 604543   CA Deaths: 2073   \n",
       "5    CO Positive Cases: 15284   CO Negative Cases: 57106    CO Deaths: 777   \n",
       "6    CT Positive Cases: 28764   CT Negative Cases: 71493   CT Deaths: 2339   \n",
       "7     DE Positive Cases: 4918   DE Negative Cases: 17667    DE Deaths: 159   \n",
       "8    FL Positive Cases: 34728  FL Negative Cases: 367971   FL Deaths: 1314   \n",
       "9    GA Positive Cases: 27270  GA Negative Cases: 141097   GA Deaths: 1154   \n",
       "10     HI Positive Cases: 618   HI Negative Cases: 30476     HI Deaths: 16   \n",
       "11    IA Positive Cases: 7884   IA Negative Cases: 37708    IA Deaths: 170   \n",
       "12    ID Positive Cases: 2015   ID Negative Cases: 27210     ID Deaths: 63   \n",
       "13   IL Positive Cases: 56055  IL Negative Cases: 228633   IL Deaths: 2457   \n",
       "14   IN Positive Cases: 18630   IN Negative Cases: 81009   IN Deaths: 1175   \n",
       "15    KS Positive Cases: 4449   KS Negative Cases: 28585    KS Deaths: 130   \n",
       "16    KY Positive Cases: 4708   KY Negative Cases: 51904    KY Deaths: 240   \n",
       "17   LA Positive Cases: 28711  LA Negative Cases: 139540   LA Deaths: 1927   \n",
       "18   MA Positive Cases: 64311  MA Negative Cases: 225325   MA Deaths: 3716   \n",
       "19   MD Positive Cases: 23472   MD Negative Cases: 97511   MD Deaths: 1192   \n",
       "20    ME Positive Cases: 1123   ME Negative Cases: 19546     ME Deaths: 55   \n",
       "21   MI Positive Cases: 42356  MI Negative Cases: 148149   MI Deaths: 3866   \n",
       "22    MN Positive Cases: 5730   MN Negative Cases: 69099    MN Deaths: 371   \n",
       "23    MO Positive Cases: 7835   MO Negative Cases: 74590    MO Deaths: 337   \n",
       "24    MS Positive Cases: 7212   MS Negative Cases: 64336    MS Deaths: 281   \n",
       "25     MT Positive Cases: 453   MT Negative Cases: 13750     MT Deaths: 16   \n",
       "26   NC Positive Cases: 10923  NC Negative Cases: 122909    NC Deaths: 399   \n",
       "27    ND Positive Cases: 1107   ND Negative Cases: 28418     ND Deaths: 23   \n",
       "28    NE Positive Cases: 4281   NE Negative Cases: 23104     NE Deaths: 70   \n",
       "29    NH Positive Cases: 2146   NH Negative Cases: 19903     NH Deaths: 72   \n",
       "30  NJ Positive Cases: 121190  NJ Negative Cases: 135355   NJ Deaths: 7538   \n",
       "31    NM Positive Cases: 3411   NM Negative Cases: 64458    NM Deaths: 123   \n",
       "32    NV Positive Cases: 5227   NV Negative Cases: 38368    NV Deaths: 243   \n",
       "33  NY Positive Cases: 308314  NY Negative Cases: 619124  NY Deaths: 18610   \n",
       "34   OH Positive Cases: 18743  OH Negative Cases: 121763   OH Deaths: 1002   \n",
       "35    OK Positive Cases: 3748   OK Negative Cases: 59804    OK Deaths: 230   \n",
       "36    OR Positive Cases: 2579   OR Negative Cases: 55597    OR Deaths: 104   \n",
       "37   PA Positive Cases: 46971  PA Negative Cases: 180477   PA Deaths: 2354   \n",
       "38    RI Positive Cases: 8962   RI Negative Cases: 57686    RI Deaths: 279   \n",
       "39    SC Positive Cases: 6258   SC Negative Cases: 53121    SC Deaths: 256   \n",
       "40    SD Positive Cases: 2525   SD Negative Cases: 14838     SD Deaths: 21   \n",
       "41   TN Positive Cases: 11891  TN Negative Cases: 174241    TN Deaths: 204   \n",
       "42   TX Positive Cases: 29229  TX Negative Cases: 322546    TX Deaths: 816   \n",
       "43    UT Positive Cases: 4828  UT Negative Cases: 107730     UT Deaths: 46   \n",
       "44   VA Positive Cases: 16901   VA Negative Cases: 88747    VA Deaths: 581   \n",
       "45     VT Positive Cases: 879   VT Negative Cases: 15354     VT Deaths: 50   \n",
       "46   WA Positive Cases: 14327  WA Negative Cases: 179654    WA Deaths: 814   \n",
       "47    WI Positive Cases: 7314   WI Negative Cases: 72566    WI Deaths: 327   \n",
       "48    WV Positive Cases: 1136   WV Negative Cases: 45708     WV Deaths: 46   \n",
       "49     WY Positive Cases: 559    WY Negative Cases: 9136      WY Deaths: 7   \n",
       "\n",
       "            testText  \n",
       "0    AK Tests: 20325  \n",
       "1    AL Tests: 91933  \n",
       "2    AR Tests: 49676  \n",
       "3    AZ Tests: 74879  \n",
       "4   CA Tests: 654985  \n",
       "5    CO Tests: 72390  \n",
       "6   CT Tests: 100257  \n",
       "7    DE Tests: 22585  \n",
       "8   FL Tests: 402699  \n",
       "9   GA Tests: 168367  \n",
       "10   HI Tests: 31094  \n",
       "11   IA Tests: 45592  \n",
       "12   ID Tests: 29225  \n",
       "13  IL Tests: 284688  \n",
       "14   IN Tests: 99639  \n",
       "15   KS Tests: 33034  \n",
       "16   KY Tests: 56612  \n",
       "17  LA Tests: 168251  \n",
       "18  MA Tests: 289636  \n",
       "19  MD Tests: 120983  \n",
       "20   ME Tests: 20669  \n",
       "21  MI Tests: 190505  \n",
       "22   MN Tests: 74829  \n",
       "23   MO Tests: 82425  \n",
       "24   MS Tests: 71548  \n",
       "25   MT Tests: 14203  \n",
       "26  NC Tests: 133832  \n",
       "27   ND Tests: 29525  \n",
       "28   NE Tests: 27385  \n",
       "29   NH Tests: 22049  \n",
       "30  NJ Tests: 256545  \n",
       "31   NM Tests: 67869  \n",
       "32   NV Tests: 43595  \n",
       "33  NY Tests: 927438  \n",
       "34  OH Tests: 140506  \n",
       "35   OK Tests: 63552  \n",
       "36   OR Tests: 58176  \n",
       "37  PA Tests: 227448  \n",
       "38   RI Tests: 66648  \n",
       "39   SC Tests: 59379  \n",
       "40   SD Tests: 17363  \n",
       "41  TN Tests: 186132  \n",
       "42  TX Tests: 351775  \n",
       "43  UT Tests: 112558  \n",
       "44  VA Tests: 105648  \n",
       "45   VT Tests: 16233  \n",
       "46  WA Tests: 193981  \n",
       "47   WI Tests: 79880  \n",
       "48   WV Tests: 46844  \n",
       "49    WY Tests: 9695  "
      ]
     },
     "execution_count": 4,
     "metadata": {},
     "output_type": "execute_result"
    }
   ],
   "source": [
    "#read in data\n",
    "data = pd.read_csv('current.csv')\n",
    "\n",
    "#drop columns we're not interested in\n",
    "data = data.drop(columns = ['notes', 'positiveScore', 'negativeScore', 'negativeRegularScore', 'commercialScore', 'grade',\n",
    "                           'score', 'dataQualityGrade', 'pending', 'hospitalizedCurrently', 'hospitalizedCumulative',\n",
    "                            'inIcuCurrently', 'inIcuCumulative', 'onVentilatorCurrently',\n",
    "                           'onVentilatorCumulative', 'lastUpdateEt', 'checkTimeEt', 'total', 'posNeg', 'fips',\n",
    "                           'dateModified', 'dateChecked'])\n",
    "\n",
    "#drop columns with null values\n",
    "data = data.dropna(axis = 'columns')\n",
    "\n",
    "#drop U.S. terrorities\n",
    "data = data[data.state != 'DC']\n",
    "data = data[data.state != 'PR']\n",
    "data = data[data.state != 'AS']\n",
    "data = data[data.state != 'GU']\n",
    "data = data[data.state != 'MP']\n",
    "data = data[data.state != 'VI']\n",
    "\n",
    "#add columns for text portion of interactive bubble on map\n",
    "data['posText'] = data['state'] + ' ' + 'Positive Cases: ' + data['positive'].astype(str)\n",
    "data['negText'] = data['state'] + ' ' + 'Negative Cases: ' + data['negative'].astype(str)\n",
    "data['deaText'] = data['state'] + ' ' + 'Deaths: ' + data['death'].astype(str)\n",
    "data['testText'] = data['state'] + ' ' + 'Tests: ' + data['totalTestResults'].astype(str)\n",
    "\n",
    "\n",
    "data"
   ]
  },
  {
   "cell_type": "markdown",
   "metadata": {},
   "source": [
    "### Rendering maps"
   ]
  },
  {
   "cell_type": "code",
   "execution_count": 6,
   "metadata": {
    "scrolled": true
   },
   "outputs": [
    {
     "data": {
      "application/vnd.plotly.v1+json": {
       "config": {
        "plotlyServerURL": "https://plot.ly"
       },
       "data": [
        {
         "lat": [
          61.3025006,
          32.601011199999995,
          34.7519275,
          34.1682185,
          37.2718745,
          38.9979339,
          41.518783500000005,
          39.145251,
          27.9757279,
          32.6781248,
          20.46,
          41.9383166,
          43.4945756,
          39.739318,
          39.7662195,
          38.4987789,
          37.8222935,
          30.9733766,
          42.4629398,
          38.806352399999994,
          45.2185133,
          44.9435598,
          46.4418595,
          38.3046615,
          32.5851062,
          46.6797995,
          35.2145629,
          47.467881899999995,
          41.5008195,
          44.00123060000001,
          40.1430058,
          34.1662325,
          38.502032,
          42.7056258,
          40.1903624,
          35.309765399999996,
          44.1419049,
          40.99459279999999,
          41.5827282,
          33.62505,
          44.2126995,
          35.830521000000005,
          31.1693363,
          39.4997605,
          38.0033855,
          43.8717545,
          47.7511,
          44.7862968,
          38.920170500000005,
          43.000325
         ],
         "lon": [
          -158.7750198,
          -86.6807365,
          -92.13137840000002,
          -111.930907,
          -119.2704153,
          -105.55056699999999,
          -72.75750699999999,
          -75.41892059999999,
          -81.5330166,
          -83.22297569999999,
          -157.505,
          -93.389798,
          -114.1424303,
          -89.504139,
          -86.441277,
          -98.32007790000002,
          -85.76823990000001,
          -91.42990970000001,
          -71.718067,
          -77.2684162,
          -69.0148656,
          -86.41580490000001,
          -93.3655146,
          -92.437099,
          -89.8772196,
          -110.04478300000001,
          -79.8912675,
          -100.3022655,
          -99.680902,
          -71.57992309999999,
          -74.7311156,
          -106.02606850000001,
          -117.0230604,
          -74.97968,
          -82.6692525,
          -98.71655849999999,
          -120.5380993,
          -77.6046984,
          -71.5064508,
          -80.9470381,
          -100.24716409999999,
          -85.97859890000001,
          -100.0768425,
          -111.547028,
          -79.4587861,
          -72.4477828,
          -120.7401,
          -89.82670490000001,
          -80.1816905,
          -107.5545669
         ],
         "marker": {
          "color": [
           364,
           7158,
           3321,
           7962,
           50442,
           15284,
           28764,
           4918,
           34728,
           27270,
           618,
           7884,
           2015,
           56055,
           18630,
           4449,
           4708,
           28711,
           64311,
           23472,
           1123,
           42356,
           5730,
           7835,
           7212,
           453,
           10923,
           1107,
           4281,
           2146,
           121190,
           3411,
           5227,
           308314,
           18743,
           3748,
           2579,
           46971,
           8962,
           6258,
           2525,
           11891,
           29229,
           4828,
           16901,
           879,
           14327,
           7314,
           1136,
           559
          ],
          "colorbar": {
           "title": {
            "text": "Number of cases"
           }
          }
         },
         "mode": "markers",
         "text": [
          "AK Positive Cases: 364",
          "AL Positive Cases: 7158",
          "AR Positive Cases: 3321",
          "AZ Positive Cases: 7962",
          "CA Positive Cases: 50442",
          "CO Positive Cases: 15284",
          "CT Positive Cases: 28764",
          "DE Positive Cases: 4918",
          "FL Positive Cases: 34728",
          "GA Positive Cases: 27270",
          "HI Positive Cases: 618",
          "IA Positive Cases: 7884",
          "ID Positive Cases: 2015",
          "IL Positive Cases: 56055",
          "IN Positive Cases: 18630",
          "KS Positive Cases: 4449",
          "KY Positive Cases: 4708",
          "LA Positive Cases: 28711",
          "MA Positive Cases: 64311",
          "MD Positive Cases: 23472",
          "ME Positive Cases: 1123",
          "MI Positive Cases: 42356",
          "MN Positive Cases: 5730",
          "MO Positive Cases: 7835",
          "MS Positive Cases: 7212",
          "MT Positive Cases: 453",
          "NC Positive Cases: 10923",
          "ND Positive Cases: 1107",
          "NE Positive Cases: 4281",
          "NH Positive Cases: 2146",
          "NJ Positive Cases: 121190",
          "NM Positive Cases: 3411",
          "NV Positive Cases: 5227",
          "NY Positive Cases: 308314",
          "OH Positive Cases: 18743",
          "OK Positive Cases: 3748",
          "OR Positive Cases: 2579",
          "PA Positive Cases: 46971",
          "RI Positive Cases: 8962",
          "SC Positive Cases: 6258",
          "SD Positive Cases: 2525",
          "TN Positive Cases: 11891",
          "TX Positive Cases: 29229",
          "UT Positive Cases: 4828",
          "VA Positive Cases: 16901",
          "VT Positive Cases: 879",
          "WA Positive Cases: 14327",
          "WI Positive Cases: 7314",
          "WV Positive Cases: 1136",
          "WY Positive Cases: 559"
         ],
         "type": "scattergeo",
         "visible": true
        },
        {
         "lat": [
          61.3025006,
          32.601011199999995,
          34.7519275,
          34.1682185,
          37.2718745,
          38.9979339,
          41.518783500000005,
          39.145251,
          27.9757279,
          32.6781248,
          20.46,
          41.9383166,
          43.4945756,
          39.739318,
          39.7662195,
          38.4987789,
          37.8222935,
          30.9733766,
          42.4629398,
          38.806352399999994,
          45.2185133,
          44.9435598,
          46.4418595,
          38.3046615,
          32.5851062,
          46.6797995,
          35.2145629,
          47.467881899999995,
          41.5008195,
          44.00123060000001,
          40.1430058,
          34.1662325,
          38.502032,
          42.7056258,
          40.1903624,
          35.309765399999996,
          44.1419049,
          40.99459279999999,
          41.5827282,
          33.62505,
          44.2126995,
          35.830521000000005,
          31.1693363,
          39.4997605,
          38.0033855,
          43.8717545,
          47.7511,
          44.7862968,
          38.920170500000005,
          43.000325
         ],
         "lon": [
          -158.7750198,
          -86.6807365,
          -92.13137840000002,
          -111.930907,
          -119.2704153,
          -105.55056699999999,
          -72.75750699999999,
          -75.41892059999999,
          -81.5330166,
          -83.22297569999999,
          -157.505,
          -93.389798,
          -114.1424303,
          -89.504139,
          -86.441277,
          -98.32007790000002,
          -85.76823990000001,
          -91.42990970000001,
          -71.718067,
          -77.2684162,
          -69.0148656,
          -86.41580490000001,
          -93.3655146,
          -92.437099,
          -89.8772196,
          -110.04478300000001,
          -79.8912675,
          -100.3022655,
          -99.680902,
          -71.57992309999999,
          -74.7311156,
          -106.02606850000001,
          -117.0230604,
          -74.97968,
          -82.6692525,
          -98.71655849999999,
          -120.5380993,
          -77.6046984,
          -71.5064508,
          -80.9470381,
          -100.24716409999999,
          -85.97859890000001,
          -100.0768425,
          -111.547028,
          -79.4587861,
          -72.4477828,
          -120.7401,
          -89.82670490000001,
          -80.1816905,
          -107.5545669
         ],
         "marker": {
          "color": [
           19961,
           84775,
           46355,
           66917,
           604543,
           57106,
           71493,
           17667,
           367971,
           141097,
           30476,
           37708,
           27210,
           228633,
           81009,
           28585,
           51904,
           139540,
           225325,
           97511,
           19546,
           148149,
           69099,
           74590,
           64336,
           13750,
           122909,
           28418,
           23104,
           19903,
           135355,
           64458,
           38368,
           619124,
           121763,
           59804,
           55597,
           180477,
           57686,
           53121,
           14838,
           174241,
           322546,
           107730,
           88747,
           15354,
           179654,
           72566,
           45708,
           9136
          ],
          "colorbar": {
           "title": {
            "text": "Number of cases"
           }
          }
         },
         "mode": "markers",
         "text": [
          "AK Negative Cases: 19961",
          "AL Negative Cases: 84775",
          "AR Negative Cases: 46355",
          "AZ Negative Cases: 66917",
          "CA Negative Cases: 604543",
          "CO Negative Cases: 57106",
          "CT Negative Cases: 71493",
          "DE Negative Cases: 17667",
          "FL Negative Cases: 367971",
          "GA Negative Cases: 141097",
          "HI Negative Cases: 30476",
          "IA Negative Cases: 37708",
          "ID Negative Cases: 27210",
          "IL Negative Cases: 228633",
          "IN Negative Cases: 81009",
          "KS Negative Cases: 28585",
          "KY Negative Cases: 51904",
          "LA Negative Cases: 139540",
          "MA Negative Cases: 225325",
          "MD Negative Cases: 97511",
          "ME Negative Cases: 19546",
          "MI Negative Cases: 148149",
          "MN Negative Cases: 69099",
          "MO Negative Cases: 74590",
          "MS Negative Cases: 64336",
          "MT Negative Cases: 13750",
          "NC Negative Cases: 122909",
          "ND Negative Cases: 28418",
          "NE Negative Cases: 23104",
          "NH Negative Cases: 19903",
          "NJ Negative Cases: 135355",
          "NM Negative Cases: 64458",
          "NV Negative Cases: 38368",
          "NY Negative Cases: 619124",
          "OH Negative Cases: 121763",
          "OK Negative Cases: 59804",
          "OR Negative Cases: 55597",
          "PA Negative Cases: 180477",
          "RI Negative Cases: 57686",
          "SC Negative Cases: 53121",
          "SD Negative Cases: 14838",
          "TN Negative Cases: 174241",
          "TX Negative Cases: 322546",
          "UT Negative Cases: 107730",
          "VA Negative Cases: 88747",
          "VT Negative Cases: 15354",
          "WA Negative Cases: 179654",
          "WI Negative Cases: 72566",
          "WV Negative Cases: 45708",
          "WY Negative Cases: 9136"
         ],
         "type": "scattergeo",
         "visible": false
        },
        {
         "lat": [
          61.3025006,
          32.601011199999995,
          34.7519275,
          34.1682185,
          37.2718745,
          38.9979339,
          41.518783500000005,
          39.145251,
          27.9757279,
          32.6781248,
          20.46,
          41.9383166,
          43.4945756,
          39.739318,
          39.7662195,
          38.4987789,
          37.8222935,
          30.9733766,
          42.4629398,
          38.806352399999994,
          45.2185133,
          44.9435598,
          46.4418595,
          38.3046615,
          32.5851062,
          46.6797995,
          35.2145629,
          47.467881899999995,
          41.5008195,
          44.00123060000001,
          40.1430058,
          34.1662325,
          38.502032,
          42.7056258,
          40.1903624,
          35.309765399999996,
          44.1419049,
          40.99459279999999,
          41.5827282,
          33.62505,
          44.2126995,
          35.830521000000005,
          31.1693363,
          39.4997605,
          38.0033855,
          43.8717545,
          47.7511,
          44.7862968,
          38.920170500000005,
          43.000325
         ],
         "lon": [
          -158.7750198,
          -86.6807365,
          -92.13137840000002,
          -111.930907,
          -119.2704153,
          -105.55056699999999,
          -72.75750699999999,
          -75.41892059999999,
          -81.5330166,
          -83.22297569999999,
          -157.505,
          -93.389798,
          -114.1424303,
          -89.504139,
          -86.441277,
          -98.32007790000002,
          -85.76823990000001,
          -91.42990970000001,
          -71.718067,
          -77.2684162,
          -69.0148656,
          -86.41580490000001,
          -93.3655146,
          -92.437099,
          -89.8772196,
          -110.04478300000001,
          -79.8912675,
          -100.3022655,
          -99.680902,
          -71.57992309999999,
          -74.7311156,
          -106.02606850000001,
          -117.0230604,
          -74.97968,
          -82.6692525,
          -98.71655849999999,
          -120.5380993,
          -77.6046984,
          -71.5064508,
          -80.9470381,
          -100.24716409999999,
          -85.97859890000001,
          -100.0768425,
          -111.547028,
          -79.4587861,
          -72.4477828,
          -120.7401,
          -89.82670490000001,
          -80.1816905,
          -107.5545669
         ],
         "marker": {
          "color": [
           9,
           279,
           64,
           330,
           2073,
           777,
           2339,
           159,
           1314,
           1154,
           16,
           170,
           63,
           2457,
           1175,
           130,
           240,
           1927,
           3716,
           1192,
           55,
           3866,
           371,
           337,
           281,
           16,
           399,
           23,
           70,
           72,
           7538,
           123,
           243,
           18610,
           1002,
           230,
           104,
           2354,
           279,
           256,
           21,
           204,
           816,
           46,
           581,
           50,
           814,
           327,
           46,
           7
          ],
          "colorbar": {
           "title": {
            "text": "Number of cases"
           }
          }
         },
         "mode": "markers",
         "text": [
          "AK Deaths: 9",
          "AL Deaths: 279",
          "AR Deaths: 64",
          "AZ Deaths: 330",
          "CA Deaths: 2073",
          "CO Deaths: 777",
          "CT Deaths: 2339",
          "DE Deaths: 159",
          "FL Deaths: 1314",
          "GA Deaths: 1154",
          "HI Deaths: 16",
          "IA Deaths: 170",
          "ID Deaths: 63",
          "IL Deaths: 2457",
          "IN Deaths: 1175",
          "KS Deaths: 130",
          "KY Deaths: 240",
          "LA Deaths: 1927",
          "MA Deaths: 3716",
          "MD Deaths: 1192",
          "ME Deaths: 55",
          "MI Deaths: 3866",
          "MN Deaths: 371",
          "MO Deaths: 337",
          "MS Deaths: 281",
          "MT Deaths: 16",
          "NC Deaths: 399",
          "ND Deaths: 23",
          "NE Deaths: 70",
          "NH Deaths: 72",
          "NJ Deaths: 7538",
          "NM Deaths: 123",
          "NV Deaths: 243",
          "NY Deaths: 18610",
          "OH Deaths: 1002",
          "OK Deaths: 230",
          "OR Deaths: 104",
          "PA Deaths: 2354",
          "RI Deaths: 279",
          "SC Deaths: 256",
          "SD Deaths: 21",
          "TN Deaths: 204",
          "TX Deaths: 816",
          "UT Deaths: 46",
          "VA Deaths: 581",
          "VT Deaths: 50",
          "WA Deaths: 814",
          "WI Deaths: 327",
          "WV Deaths: 46",
          "WY Deaths: 7"
         ],
         "type": "scattergeo",
         "visible": false
        }
       ],
       "layout": {
        "geo": {
         "scope": "usa"
        },
        "template": {
         "data": {
          "bar": [
           {
            "error_x": {
             "color": "#2a3f5f"
            },
            "error_y": {
             "color": "#2a3f5f"
            },
            "marker": {
             "line": {
              "color": "#E5ECF6",
              "width": 0.5
             }
            },
            "type": "bar"
           }
          ],
          "barpolar": [
           {
            "marker": {
             "line": {
              "color": "#E5ECF6",
              "width": 0.5
             }
            },
            "type": "barpolar"
           }
          ],
          "carpet": [
           {
            "aaxis": {
             "endlinecolor": "#2a3f5f",
             "gridcolor": "white",
             "linecolor": "white",
             "minorgridcolor": "white",
             "startlinecolor": "#2a3f5f"
            },
            "baxis": {
             "endlinecolor": "#2a3f5f",
             "gridcolor": "white",
             "linecolor": "white",
             "minorgridcolor": "white",
             "startlinecolor": "#2a3f5f"
            },
            "type": "carpet"
           }
          ],
          "choropleth": [
           {
            "colorbar": {
             "outlinewidth": 0,
             "ticks": ""
            },
            "type": "choropleth"
           }
          ],
          "contour": [
           {
            "colorbar": {
             "outlinewidth": 0,
             "ticks": ""
            },
            "colorscale": [
             [
              0,
              "#0d0887"
             ],
             [
              0.1111111111111111,
              "#46039f"
             ],
             [
              0.2222222222222222,
              "#7201a8"
             ],
             [
              0.3333333333333333,
              "#9c179e"
             ],
             [
              0.4444444444444444,
              "#bd3786"
             ],
             [
              0.5555555555555556,
              "#d8576b"
             ],
             [
              0.6666666666666666,
              "#ed7953"
             ],
             [
              0.7777777777777778,
              "#fb9f3a"
             ],
             [
              0.8888888888888888,
              "#fdca26"
             ],
             [
              1,
              "#f0f921"
             ]
            ],
            "type": "contour"
           }
          ],
          "contourcarpet": [
           {
            "colorbar": {
             "outlinewidth": 0,
             "ticks": ""
            },
            "type": "contourcarpet"
           }
          ],
          "heatmap": [
           {
            "colorbar": {
             "outlinewidth": 0,
             "ticks": ""
            },
            "colorscale": [
             [
              0,
              "#0d0887"
             ],
             [
              0.1111111111111111,
              "#46039f"
             ],
             [
              0.2222222222222222,
              "#7201a8"
             ],
             [
              0.3333333333333333,
              "#9c179e"
             ],
             [
              0.4444444444444444,
              "#bd3786"
             ],
             [
              0.5555555555555556,
              "#d8576b"
             ],
             [
              0.6666666666666666,
              "#ed7953"
             ],
             [
              0.7777777777777778,
              "#fb9f3a"
             ],
             [
              0.8888888888888888,
              "#fdca26"
             ],
             [
              1,
              "#f0f921"
             ]
            ],
            "type": "heatmap"
           }
          ],
          "heatmapgl": [
           {
            "colorbar": {
             "outlinewidth": 0,
             "ticks": ""
            },
            "colorscale": [
             [
              0,
              "#0d0887"
             ],
             [
              0.1111111111111111,
              "#46039f"
             ],
             [
              0.2222222222222222,
              "#7201a8"
             ],
             [
              0.3333333333333333,
              "#9c179e"
             ],
             [
              0.4444444444444444,
              "#bd3786"
             ],
             [
              0.5555555555555556,
              "#d8576b"
             ],
             [
              0.6666666666666666,
              "#ed7953"
             ],
             [
              0.7777777777777778,
              "#fb9f3a"
             ],
             [
              0.8888888888888888,
              "#fdca26"
             ],
             [
              1,
              "#f0f921"
             ]
            ],
            "type": "heatmapgl"
           }
          ],
          "histogram": [
           {
            "marker": {
             "colorbar": {
              "outlinewidth": 0,
              "ticks": ""
             }
            },
            "type": "histogram"
           }
          ],
          "histogram2d": [
           {
            "colorbar": {
             "outlinewidth": 0,
             "ticks": ""
            },
            "colorscale": [
             [
              0,
              "#0d0887"
             ],
             [
              0.1111111111111111,
              "#46039f"
             ],
             [
              0.2222222222222222,
              "#7201a8"
             ],
             [
              0.3333333333333333,
              "#9c179e"
             ],
             [
              0.4444444444444444,
              "#bd3786"
             ],
             [
              0.5555555555555556,
              "#d8576b"
             ],
             [
              0.6666666666666666,
              "#ed7953"
             ],
             [
              0.7777777777777778,
              "#fb9f3a"
             ],
             [
              0.8888888888888888,
              "#fdca26"
             ],
             [
              1,
              "#f0f921"
             ]
            ],
            "type": "histogram2d"
           }
          ],
          "histogram2dcontour": [
           {
            "colorbar": {
             "outlinewidth": 0,
             "ticks": ""
            },
            "colorscale": [
             [
              0,
              "#0d0887"
             ],
             [
              0.1111111111111111,
              "#46039f"
             ],
             [
              0.2222222222222222,
              "#7201a8"
             ],
             [
              0.3333333333333333,
              "#9c179e"
             ],
             [
              0.4444444444444444,
              "#bd3786"
             ],
             [
              0.5555555555555556,
              "#d8576b"
             ],
             [
              0.6666666666666666,
              "#ed7953"
             ],
             [
              0.7777777777777778,
              "#fb9f3a"
             ],
             [
              0.8888888888888888,
              "#fdca26"
             ],
             [
              1,
              "#f0f921"
             ]
            ],
            "type": "histogram2dcontour"
           }
          ],
          "mesh3d": [
           {
            "colorbar": {
             "outlinewidth": 0,
             "ticks": ""
            },
            "type": "mesh3d"
           }
          ],
          "parcoords": [
           {
            "line": {
             "colorbar": {
              "outlinewidth": 0,
              "ticks": ""
             }
            },
            "type": "parcoords"
           }
          ],
          "pie": [
           {
            "automargin": true,
            "type": "pie"
           }
          ],
          "scatter": [
           {
            "marker": {
             "colorbar": {
              "outlinewidth": 0,
              "ticks": ""
             }
            },
            "type": "scatter"
           }
          ],
          "scatter3d": [
           {
            "line": {
             "colorbar": {
              "outlinewidth": 0,
              "ticks": ""
             }
            },
            "marker": {
             "colorbar": {
              "outlinewidth": 0,
              "ticks": ""
             }
            },
            "type": "scatter3d"
           }
          ],
          "scattercarpet": [
           {
            "marker": {
             "colorbar": {
              "outlinewidth": 0,
              "ticks": ""
             }
            },
            "type": "scattercarpet"
           }
          ],
          "scattergeo": [
           {
            "marker": {
             "colorbar": {
              "outlinewidth": 0,
              "ticks": ""
             }
            },
            "type": "scattergeo"
           }
          ],
          "scattergl": [
           {
            "marker": {
             "colorbar": {
              "outlinewidth": 0,
              "ticks": ""
             }
            },
            "type": "scattergl"
           }
          ],
          "scattermapbox": [
           {
            "marker": {
             "colorbar": {
              "outlinewidth": 0,
              "ticks": ""
             }
            },
            "type": "scattermapbox"
           }
          ],
          "scatterpolar": [
           {
            "marker": {
             "colorbar": {
              "outlinewidth": 0,
              "ticks": ""
             }
            },
            "type": "scatterpolar"
           }
          ],
          "scatterpolargl": [
           {
            "marker": {
             "colorbar": {
              "outlinewidth": 0,
              "ticks": ""
             }
            },
            "type": "scatterpolargl"
           }
          ],
          "scatterternary": [
           {
            "marker": {
             "colorbar": {
              "outlinewidth": 0,
              "ticks": ""
             }
            },
            "type": "scatterternary"
           }
          ],
          "surface": [
           {
            "colorbar": {
             "outlinewidth": 0,
             "ticks": ""
            },
            "colorscale": [
             [
              0,
              "#0d0887"
             ],
             [
              0.1111111111111111,
              "#46039f"
             ],
             [
              0.2222222222222222,
              "#7201a8"
             ],
             [
              0.3333333333333333,
              "#9c179e"
             ],
             [
              0.4444444444444444,
              "#bd3786"
             ],
             [
              0.5555555555555556,
              "#d8576b"
             ],
             [
              0.6666666666666666,
              "#ed7953"
             ],
             [
              0.7777777777777778,
              "#fb9f3a"
             ],
             [
              0.8888888888888888,
              "#fdca26"
             ],
             [
              1,
              "#f0f921"
             ]
            ],
            "type": "surface"
           }
          ],
          "table": [
           {
            "cells": {
             "fill": {
              "color": "#EBF0F8"
             },
             "line": {
              "color": "white"
             }
            },
            "header": {
             "fill": {
              "color": "#C8D4E3"
             },
             "line": {
              "color": "white"
             }
            },
            "type": "table"
           }
          ]
         },
         "layout": {
          "annotationdefaults": {
           "arrowcolor": "#2a3f5f",
           "arrowhead": 0,
           "arrowwidth": 1
          },
          "coloraxis": {
           "colorbar": {
            "outlinewidth": 0,
            "ticks": ""
           }
          },
          "colorscale": {
           "diverging": [
            [
             0,
             "#8e0152"
            ],
            [
             0.1,
             "#c51b7d"
            ],
            [
             0.2,
             "#de77ae"
            ],
            [
             0.3,
             "#f1b6da"
            ],
            [
             0.4,
             "#fde0ef"
            ],
            [
             0.5,
             "#f7f7f7"
            ],
            [
             0.6,
             "#e6f5d0"
            ],
            [
             0.7,
             "#b8e186"
            ],
            [
             0.8,
             "#7fbc41"
            ],
            [
             0.9,
             "#4d9221"
            ],
            [
             1,
             "#276419"
            ]
           ],
           "sequential": [
            [
             0,
             "#0d0887"
            ],
            [
             0.1111111111111111,
             "#46039f"
            ],
            [
             0.2222222222222222,
             "#7201a8"
            ],
            [
             0.3333333333333333,
             "#9c179e"
            ],
            [
             0.4444444444444444,
             "#bd3786"
            ],
            [
             0.5555555555555556,
             "#d8576b"
            ],
            [
             0.6666666666666666,
             "#ed7953"
            ],
            [
             0.7777777777777778,
             "#fb9f3a"
            ],
            [
             0.8888888888888888,
             "#fdca26"
            ],
            [
             1,
             "#f0f921"
            ]
           ],
           "sequentialminus": [
            [
             0,
             "#0d0887"
            ],
            [
             0.1111111111111111,
             "#46039f"
            ],
            [
             0.2222222222222222,
             "#7201a8"
            ],
            [
             0.3333333333333333,
             "#9c179e"
            ],
            [
             0.4444444444444444,
             "#bd3786"
            ],
            [
             0.5555555555555556,
             "#d8576b"
            ],
            [
             0.6666666666666666,
             "#ed7953"
            ],
            [
             0.7777777777777778,
             "#fb9f3a"
            ],
            [
             0.8888888888888888,
             "#fdca26"
            ],
            [
             1,
             "#f0f921"
            ]
           ]
          },
          "colorway": [
           "#636efa",
           "#EF553B",
           "#00cc96",
           "#ab63fa",
           "#FFA15A",
           "#19d3f3",
           "#FF6692",
           "#B6E880",
           "#FF97FF",
           "#FECB52"
          ],
          "font": {
           "color": "#2a3f5f"
          },
          "geo": {
           "bgcolor": "white",
           "lakecolor": "white",
           "landcolor": "#E5ECF6",
           "showlakes": true,
           "showland": true,
           "subunitcolor": "white"
          },
          "hoverlabel": {
           "align": "left"
          },
          "hovermode": "closest",
          "mapbox": {
           "style": "light"
          },
          "paper_bgcolor": "white",
          "plot_bgcolor": "#E5ECF6",
          "polar": {
           "angularaxis": {
            "gridcolor": "white",
            "linecolor": "white",
            "ticks": ""
           },
           "bgcolor": "#E5ECF6",
           "radialaxis": {
            "gridcolor": "white",
            "linecolor": "white",
            "ticks": ""
           }
          },
          "scene": {
           "xaxis": {
            "backgroundcolor": "#E5ECF6",
            "gridcolor": "white",
            "gridwidth": 2,
            "linecolor": "white",
            "showbackground": true,
            "ticks": "",
            "zerolinecolor": "white"
           },
           "yaxis": {
            "backgroundcolor": "#E5ECF6",
            "gridcolor": "white",
            "gridwidth": 2,
            "linecolor": "white",
            "showbackground": true,
            "ticks": "",
            "zerolinecolor": "white"
           },
           "zaxis": {
            "backgroundcolor": "#E5ECF6",
            "gridcolor": "white",
            "gridwidth": 2,
            "linecolor": "white",
            "showbackground": true,
            "ticks": "",
            "zerolinecolor": "white"
           }
          },
          "shapedefaults": {
           "line": {
            "color": "#2a3f5f"
           }
          },
          "ternary": {
           "aaxis": {
            "gridcolor": "white",
            "linecolor": "white",
            "ticks": ""
           },
           "baxis": {
            "gridcolor": "white",
            "linecolor": "white",
            "ticks": ""
           },
           "bgcolor": "#E5ECF6",
           "caxis": {
            "gridcolor": "white",
            "linecolor": "white",
            "ticks": ""
           }
          },
          "title": {
           "x": 0.05
          },
          "xaxis": {
           "automargin": true,
           "gridcolor": "white",
           "linecolor": "white",
           "ticks": "",
           "title": {
            "standoff": 15
           },
           "zerolinecolor": "white",
           "zerolinewidth": 2
          },
          "yaxis": {
           "automargin": true,
           "gridcolor": "white",
           "linecolor": "white",
           "ticks": "",
           "title": {
            "standoff": 15
           },
           "zerolinecolor": "white",
           "zerolinewidth": 2
          }
         }
        },
        "title": {
         "text": "Positive COVID-19 cases in each state<br>(Hover for details)"
        },
        "updatemenus": [
         {
          "active": 0,
          "buttons": [
           {
            "args": [
             {
              "visible": [
               true,
               false,
               false
              ]
             },
             {
              "title": "Positive COVID-19 cases in each state<br>(Hover for details)"
             }
            ],
            "label": "positive",
            "method": "update"
           },
           {
            "args": [
             {
              "visible": [
               false,
               true,
               false
              ]
             },
             {
              "title": "Negative COVID-19 cases in each state<br>(Hover for details)"
             }
            ],
            "label": "negative",
            "method": "update"
           },
           {
            "args": [
             {
              "visible": [
               false,
               false,
               true
              ]
             },
             {
              "title": "COVID-19 death cases in each state<br>(Hover for details)"
             }
            ],
            "label": "death",
            "method": "update"
           }
          ]
         }
        ]
       }
      },
      "text/html": [
       "<div>\n",
       "        \n",
       "        \n",
       "            <div id=\"57323a4d-dc40-4cf0-9a18-d60b929de91e\" class=\"plotly-graph-div\" style=\"height:525px; width:100%;\"></div>\n",
       "            <script type=\"text/javascript\">\n",
       "                require([\"plotly\"], function(Plotly) {\n",
       "                    window.PLOTLYENV=window.PLOTLYENV || {};\n",
       "                    \n",
       "                if (document.getElementById(\"57323a4d-dc40-4cf0-9a18-d60b929de91e\")) {\n",
       "                    Plotly.newPlot(\n",
       "                        '57323a4d-dc40-4cf0-9a18-d60b929de91e',\n",
       "                        [{\"lat\": [61.3025006, 32.601011199999995, 34.7519275, 34.1682185, 37.2718745, 38.9979339, 41.518783500000005, 39.145251, 27.9757279, 32.6781248, 20.46, 41.9383166, 43.4945756, 39.739318, 39.7662195, 38.4987789, 37.8222935, 30.9733766, 42.4629398, 38.806352399999994, 45.2185133, 44.9435598, 46.4418595, 38.3046615, 32.5851062, 46.6797995, 35.2145629, 47.467881899999995, 41.5008195, 44.00123060000001, 40.1430058, 34.1662325, 38.502032, 42.7056258, 40.1903624, 35.309765399999996, 44.1419049, 40.99459279999999, 41.5827282, 33.62505, 44.2126995, 35.830521000000005, 31.1693363, 39.4997605, 38.0033855, 43.8717545, 47.7511, 44.7862968, 38.920170500000005, 43.000325], \"lon\": [-158.7750198, -86.6807365, -92.13137840000002, -111.930907, -119.2704153, -105.55056699999999, -72.75750699999999, -75.41892059999999, -81.5330166, -83.22297569999999, -157.505, -93.389798, -114.1424303, -89.504139, -86.441277, -98.32007790000002, -85.76823990000001, -91.42990970000001, -71.718067, -77.2684162, -69.0148656, -86.41580490000001, -93.3655146, -92.437099, -89.8772196, -110.04478300000001, -79.8912675, -100.3022655, -99.680902, -71.57992309999999, -74.7311156, -106.02606850000001, -117.0230604, -74.97968, -82.6692525, -98.71655849999999, -120.5380993, -77.6046984, -71.5064508, -80.9470381, -100.24716409999999, -85.97859890000001, -100.0768425, -111.547028, -79.4587861, -72.4477828, -120.7401, -89.82670490000001, -80.1816905, -107.5545669], \"marker\": {\"color\": [364, 7158, 3321, 7962, 50442, 15284, 28764, 4918, 34728, 27270, 618, 7884, 2015, 56055, 18630, 4449, 4708, 28711, 64311, 23472, 1123, 42356, 5730, 7835, 7212, 453, 10923, 1107, 4281, 2146, 121190, 3411, 5227, 308314, 18743, 3748, 2579, 46971, 8962, 6258, 2525, 11891, 29229, 4828, 16901, 879, 14327, 7314, 1136, 559], \"colorbar\": {\"title\": {\"text\": \"Number of cases\"}}}, \"mode\": \"markers\", \"text\": [\"AK Positive Cases: 364\", \"AL Positive Cases: 7158\", \"AR Positive Cases: 3321\", \"AZ Positive Cases: 7962\", \"CA Positive Cases: 50442\", \"CO Positive Cases: 15284\", \"CT Positive Cases: 28764\", \"DE Positive Cases: 4918\", \"FL Positive Cases: 34728\", \"GA Positive Cases: 27270\", \"HI Positive Cases: 618\", \"IA Positive Cases: 7884\", \"ID Positive Cases: 2015\", \"IL Positive Cases: 56055\", \"IN Positive Cases: 18630\", \"KS Positive Cases: 4449\", \"KY Positive Cases: 4708\", \"LA Positive Cases: 28711\", \"MA Positive Cases: 64311\", \"MD Positive Cases: 23472\", \"ME Positive Cases: 1123\", \"MI Positive Cases: 42356\", \"MN Positive Cases: 5730\", \"MO Positive Cases: 7835\", \"MS Positive Cases: 7212\", \"MT Positive Cases: 453\", \"NC Positive Cases: 10923\", \"ND Positive Cases: 1107\", \"NE Positive Cases: 4281\", \"NH Positive Cases: 2146\", \"NJ Positive Cases: 121190\", \"NM Positive Cases: 3411\", \"NV Positive Cases: 5227\", \"NY Positive Cases: 308314\", \"OH Positive Cases: 18743\", \"OK Positive Cases: 3748\", \"OR Positive Cases: 2579\", \"PA Positive Cases: 46971\", \"RI Positive Cases: 8962\", \"SC Positive Cases: 6258\", \"SD Positive Cases: 2525\", \"TN Positive Cases: 11891\", \"TX Positive Cases: 29229\", \"UT Positive Cases: 4828\", \"VA Positive Cases: 16901\", \"VT Positive Cases: 879\", \"WA Positive Cases: 14327\", \"WI Positive Cases: 7314\", \"WV Positive Cases: 1136\", \"WY Positive Cases: 559\"], \"type\": \"scattergeo\", \"visible\": true}, {\"lat\": [61.3025006, 32.601011199999995, 34.7519275, 34.1682185, 37.2718745, 38.9979339, 41.518783500000005, 39.145251, 27.9757279, 32.6781248, 20.46, 41.9383166, 43.4945756, 39.739318, 39.7662195, 38.4987789, 37.8222935, 30.9733766, 42.4629398, 38.806352399999994, 45.2185133, 44.9435598, 46.4418595, 38.3046615, 32.5851062, 46.6797995, 35.2145629, 47.467881899999995, 41.5008195, 44.00123060000001, 40.1430058, 34.1662325, 38.502032, 42.7056258, 40.1903624, 35.309765399999996, 44.1419049, 40.99459279999999, 41.5827282, 33.62505, 44.2126995, 35.830521000000005, 31.1693363, 39.4997605, 38.0033855, 43.8717545, 47.7511, 44.7862968, 38.920170500000005, 43.000325], \"lon\": [-158.7750198, -86.6807365, -92.13137840000002, -111.930907, -119.2704153, -105.55056699999999, -72.75750699999999, -75.41892059999999, -81.5330166, -83.22297569999999, -157.505, -93.389798, -114.1424303, -89.504139, -86.441277, -98.32007790000002, -85.76823990000001, -91.42990970000001, -71.718067, -77.2684162, -69.0148656, -86.41580490000001, -93.3655146, -92.437099, -89.8772196, -110.04478300000001, -79.8912675, -100.3022655, -99.680902, -71.57992309999999, -74.7311156, -106.02606850000001, -117.0230604, -74.97968, -82.6692525, -98.71655849999999, -120.5380993, -77.6046984, -71.5064508, -80.9470381, -100.24716409999999, -85.97859890000001, -100.0768425, -111.547028, -79.4587861, -72.4477828, -120.7401, -89.82670490000001, -80.1816905, -107.5545669], \"marker\": {\"color\": [19961, 84775, 46355, 66917, 604543, 57106, 71493, 17667, 367971, 141097, 30476, 37708, 27210, 228633, 81009, 28585, 51904, 139540, 225325, 97511, 19546, 148149, 69099, 74590, 64336, 13750, 122909, 28418, 23104, 19903, 135355, 64458, 38368, 619124, 121763, 59804, 55597, 180477, 57686, 53121, 14838, 174241, 322546, 107730, 88747, 15354, 179654, 72566, 45708, 9136], \"colorbar\": {\"title\": {\"text\": \"Number of cases\"}}}, \"mode\": \"markers\", \"text\": [\"AK Negative Cases: 19961\", \"AL Negative Cases: 84775\", \"AR Negative Cases: 46355\", \"AZ Negative Cases: 66917\", \"CA Negative Cases: 604543\", \"CO Negative Cases: 57106\", \"CT Negative Cases: 71493\", \"DE Negative Cases: 17667\", \"FL Negative Cases: 367971\", \"GA Negative Cases: 141097\", \"HI Negative Cases: 30476\", \"IA Negative Cases: 37708\", \"ID Negative Cases: 27210\", \"IL Negative Cases: 228633\", \"IN Negative Cases: 81009\", \"KS Negative Cases: 28585\", \"KY Negative Cases: 51904\", \"LA Negative Cases: 139540\", \"MA Negative Cases: 225325\", \"MD Negative Cases: 97511\", \"ME Negative Cases: 19546\", \"MI Negative Cases: 148149\", \"MN Negative Cases: 69099\", \"MO Negative Cases: 74590\", \"MS Negative Cases: 64336\", \"MT Negative Cases: 13750\", \"NC Negative Cases: 122909\", \"ND Negative Cases: 28418\", \"NE Negative Cases: 23104\", \"NH Negative Cases: 19903\", \"NJ Negative Cases: 135355\", \"NM Negative Cases: 64458\", \"NV Negative Cases: 38368\", \"NY Negative Cases: 619124\", \"OH Negative Cases: 121763\", \"OK Negative Cases: 59804\", \"OR Negative Cases: 55597\", \"PA Negative Cases: 180477\", \"RI Negative Cases: 57686\", \"SC Negative Cases: 53121\", \"SD Negative Cases: 14838\", \"TN Negative Cases: 174241\", \"TX Negative Cases: 322546\", \"UT Negative Cases: 107730\", \"VA Negative Cases: 88747\", \"VT Negative Cases: 15354\", \"WA Negative Cases: 179654\", \"WI Negative Cases: 72566\", \"WV Negative Cases: 45708\", \"WY Negative Cases: 9136\"], \"type\": \"scattergeo\", \"visible\": false}, {\"lat\": [61.3025006, 32.601011199999995, 34.7519275, 34.1682185, 37.2718745, 38.9979339, 41.518783500000005, 39.145251, 27.9757279, 32.6781248, 20.46, 41.9383166, 43.4945756, 39.739318, 39.7662195, 38.4987789, 37.8222935, 30.9733766, 42.4629398, 38.806352399999994, 45.2185133, 44.9435598, 46.4418595, 38.3046615, 32.5851062, 46.6797995, 35.2145629, 47.467881899999995, 41.5008195, 44.00123060000001, 40.1430058, 34.1662325, 38.502032, 42.7056258, 40.1903624, 35.309765399999996, 44.1419049, 40.99459279999999, 41.5827282, 33.62505, 44.2126995, 35.830521000000005, 31.1693363, 39.4997605, 38.0033855, 43.8717545, 47.7511, 44.7862968, 38.920170500000005, 43.000325], \"lon\": [-158.7750198, -86.6807365, -92.13137840000002, -111.930907, -119.2704153, -105.55056699999999, -72.75750699999999, -75.41892059999999, -81.5330166, -83.22297569999999, -157.505, -93.389798, -114.1424303, -89.504139, -86.441277, -98.32007790000002, -85.76823990000001, -91.42990970000001, -71.718067, -77.2684162, -69.0148656, -86.41580490000001, -93.3655146, -92.437099, -89.8772196, -110.04478300000001, -79.8912675, -100.3022655, -99.680902, -71.57992309999999, -74.7311156, -106.02606850000001, -117.0230604, -74.97968, -82.6692525, -98.71655849999999, -120.5380993, -77.6046984, -71.5064508, -80.9470381, -100.24716409999999, -85.97859890000001, -100.0768425, -111.547028, -79.4587861, -72.4477828, -120.7401, -89.82670490000001, -80.1816905, -107.5545669], \"marker\": {\"color\": [9, 279, 64, 330, 2073, 777, 2339, 159, 1314, 1154, 16, 170, 63, 2457, 1175, 130, 240, 1927, 3716, 1192, 55, 3866, 371, 337, 281, 16, 399, 23, 70, 72, 7538, 123, 243, 18610, 1002, 230, 104, 2354, 279, 256, 21, 204, 816, 46, 581, 50, 814, 327, 46, 7], \"colorbar\": {\"title\": {\"text\": \"Number of cases\"}}}, \"mode\": \"markers\", \"text\": [\"AK Deaths: 9\", \"AL Deaths: 279\", \"AR Deaths: 64\", \"AZ Deaths: 330\", \"CA Deaths: 2073\", \"CO Deaths: 777\", \"CT Deaths: 2339\", \"DE Deaths: 159\", \"FL Deaths: 1314\", \"GA Deaths: 1154\", \"HI Deaths: 16\", \"IA Deaths: 170\", \"ID Deaths: 63\", \"IL Deaths: 2457\", \"IN Deaths: 1175\", \"KS Deaths: 130\", \"KY Deaths: 240\", \"LA Deaths: 1927\", \"MA Deaths: 3716\", \"MD Deaths: 1192\", \"ME Deaths: 55\", \"MI Deaths: 3866\", \"MN Deaths: 371\", \"MO Deaths: 337\", \"MS Deaths: 281\", \"MT Deaths: 16\", \"NC Deaths: 399\", \"ND Deaths: 23\", \"NE Deaths: 70\", \"NH Deaths: 72\", \"NJ Deaths: 7538\", \"NM Deaths: 123\", \"NV Deaths: 243\", \"NY Deaths: 18610\", \"OH Deaths: 1002\", \"OK Deaths: 230\", \"OR Deaths: 104\", \"PA Deaths: 2354\", \"RI Deaths: 279\", \"SC Deaths: 256\", \"SD Deaths: 21\", \"TN Deaths: 204\", \"TX Deaths: 816\", \"UT Deaths: 46\", \"VA Deaths: 581\", \"VT Deaths: 50\", \"WA Deaths: 814\", \"WI Deaths: 327\", \"WV Deaths: 46\", \"WY Deaths: 7\"], \"type\": \"scattergeo\", \"visible\": false}],\n",
       "                        {\"geo\": {\"scope\": \"usa\"}, \"template\": {\"data\": {\"bar\": [{\"error_x\": {\"color\": \"#2a3f5f\"}, \"error_y\": {\"color\": \"#2a3f5f\"}, \"marker\": {\"line\": {\"color\": \"#E5ECF6\", \"width\": 0.5}}, \"type\": \"bar\"}], \"barpolar\": [{\"marker\": {\"line\": {\"color\": \"#E5ECF6\", \"width\": 0.5}}, \"type\": \"barpolar\"}], \"carpet\": [{\"aaxis\": {\"endlinecolor\": \"#2a3f5f\", \"gridcolor\": \"white\", \"linecolor\": \"white\", \"minorgridcolor\": \"white\", \"startlinecolor\": \"#2a3f5f\"}, \"baxis\": {\"endlinecolor\": \"#2a3f5f\", \"gridcolor\": \"white\", \"linecolor\": \"white\", \"minorgridcolor\": \"white\", \"startlinecolor\": \"#2a3f5f\"}, \"type\": \"carpet\"}], \"choropleth\": [{\"colorbar\": {\"outlinewidth\": 0, \"ticks\": \"\"}, \"type\": \"choropleth\"}], \"contour\": [{\"colorbar\": {\"outlinewidth\": 0, \"ticks\": \"\"}, \"colorscale\": [[0.0, \"#0d0887\"], [0.1111111111111111, \"#46039f\"], [0.2222222222222222, \"#7201a8\"], [0.3333333333333333, \"#9c179e\"], [0.4444444444444444, \"#bd3786\"], [0.5555555555555556, \"#d8576b\"], [0.6666666666666666, \"#ed7953\"], [0.7777777777777778, \"#fb9f3a\"], [0.8888888888888888, \"#fdca26\"], [1.0, \"#f0f921\"]], \"type\": \"contour\"}], \"contourcarpet\": [{\"colorbar\": {\"outlinewidth\": 0, \"ticks\": \"\"}, \"type\": \"contourcarpet\"}], \"heatmap\": [{\"colorbar\": {\"outlinewidth\": 0, \"ticks\": \"\"}, \"colorscale\": [[0.0, \"#0d0887\"], [0.1111111111111111, \"#46039f\"], [0.2222222222222222, \"#7201a8\"], [0.3333333333333333, \"#9c179e\"], [0.4444444444444444, \"#bd3786\"], [0.5555555555555556, \"#d8576b\"], [0.6666666666666666, \"#ed7953\"], [0.7777777777777778, \"#fb9f3a\"], [0.8888888888888888, \"#fdca26\"], [1.0, \"#f0f921\"]], \"type\": \"heatmap\"}], \"heatmapgl\": [{\"colorbar\": {\"outlinewidth\": 0, \"ticks\": \"\"}, \"colorscale\": [[0.0, \"#0d0887\"], [0.1111111111111111, \"#46039f\"], [0.2222222222222222, \"#7201a8\"], [0.3333333333333333, \"#9c179e\"], [0.4444444444444444, \"#bd3786\"], [0.5555555555555556, \"#d8576b\"], [0.6666666666666666, \"#ed7953\"], [0.7777777777777778, \"#fb9f3a\"], [0.8888888888888888, \"#fdca26\"], [1.0, \"#f0f921\"]], \"type\": \"heatmapgl\"}], \"histogram\": [{\"marker\": {\"colorbar\": {\"outlinewidth\": 0, \"ticks\": \"\"}}, \"type\": \"histogram\"}], \"histogram2d\": [{\"colorbar\": {\"outlinewidth\": 0, \"ticks\": \"\"}, \"colorscale\": [[0.0, \"#0d0887\"], [0.1111111111111111, \"#46039f\"], [0.2222222222222222, \"#7201a8\"], [0.3333333333333333, \"#9c179e\"], [0.4444444444444444, \"#bd3786\"], [0.5555555555555556, \"#d8576b\"], [0.6666666666666666, \"#ed7953\"], [0.7777777777777778, \"#fb9f3a\"], [0.8888888888888888, \"#fdca26\"], [1.0, \"#f0f921\"]], \"type\": \"histogram2d\"}], \"histogram2dcontour\": [{\"colorbar\": {\"outlinewidth\": 0, \"ticks\": \"\"}, \"colorscale\": [[0.0, \"#0d0887\"], [0.1111111111111111, \"#46039f\"], [0.2222222222222222, \"#7201a8\"], [0.3333333333333333, \"#9c179e\"], [0.4444444444444444, \"#bd3786\"], [0.5555555555555556, \"#d8576b\"], [0.6666666666666666, \"#ed7953\"], [0.7777777777777778, \"#fb9f3a\"], [0.8888888888888888, \"#fdca26\"], [1.0, \"#f0f921\"]], \"type\": \"histogram2dcontour\"}], \"mesh3d\": [{\"colorbar\": {\"outlinewidth\": 0, \"ticks\": \"\"}, \"type\": \"mesh3d\"}], \"parcoords\": [{\"line\": {\"colorbar\": {\"outlinewidth\": 0, \"ticks\": \"\"}}, \"type\": \"parcoords\"}], \"pie\": [{\"automargin\": true, \"type\": \"pie\"}], \"scatter\": [{\"marker\": {\"colorbar\": {\"outlinewidth\": 0, \"ticks\": \"\"}}, \"type\": \"scatter\"}], \"scatter3d\": [{\"line\": {\"colorbar\": {\"outlinewidth\": 0, \"ticks\": \"\"}}, \"marker\": {\"colorbar\": {\"outlinewidth\": 0, \"ticks\": \"\"}}, \"type\": \"scatter3d\"}], \"scattercarpet\": [{\"marker\": {\"colorbar\": {\"outlinewidth\": 0, \"ticks\": \"\"}}, \"type\": \"scattercarpet\"}], \"scattergeo\": [{\"marker\": {\"colorbar\": {\"outlinewidth\": 0, \"ticks\": \"\"}}, \"type\": \"scattergeo\"}], \"scattergl\": [{\"marker\": {\"colorbar\": {\"outlinewidth\": 0, \"ticks\": \"\"}}, \"type\": \"scattergl\"}], \"scattermapbox\": [{\"marker\": {\"colorbar\": {\"outlinewidth\": 0, \"ticks\": \"\"}}, \"type\": \"scattermapbox\"}], \"scatterpolar\": [{\"marker\": {\"colorbar\": {\"outlinewidth\": 0, \"ticks\": \"\"}}, \"type\": \"scatterpolar\"}], \"scatterpolargl\": [{\"marker\": {\"colorbar\": {\"outlinewidth\": 0, \"ticks\": \"\"}}, \"type\": \"scatterpolargl\"}], \"scatterternary\": [{\"marker\": {\"colorbar\": {\"outlinewidth\": 0, \"ticks\": \"\"}}, \"type\": \"scatterternary\"}], \"surface\": [{\"colorbar\": {\"outlinewidth\": 0, \"ticks\": \"\"}, \"colorscale\": [[0.0, \"#0d0887\"], [0.1111111111111111, \"#46039f\"], [0.2222222222222222, \"#7201a8\"], [0.3333333333333333, \"#9c179e\"], [0.4444444444444444, \"#bd3786\"], [0.5555555555555556, \"#d8576b\"], [0.6666666666666666, \"#ed7953\"], [0.7777777777777778, \"#fb9f3a\"], [0.8888888888888888, \"#fdca26\"], [1.0, \"#f0f921\"]], \"type\": \"surface\"}], \"table\": [{\"cells\": {\"fill\": {\"color\": \"#EBF0F8\"}, \"line\": {\"color\": \"white\"}}, \"header\": {\"fill\": {\"color\": \"#C8D4E3\"}, \"line\": {\"color\": \"white\"}}, \"type\": \"table\"}]}, \"layout\": {\"annotationdefaults\": {\"arrowcolor\": \"#2a3f5f\", \"arrowhead\": 0, \"arrowwidth\": 1}, \"coloraxis\": {\"colorbar\": {\"outlinewidth\": 0, \"ticks\": \"\"}}, \"colorscale\": {\"diverging\": [[0, \"#8e0152\"], [0.1, \"#c51b7d\"], [0.2, \"#de77ae\"], [0.3, \"#f1b6da\"], [0.4, \"#fde0ef\"], [0.5, \"#f7f7f7\"], [0.6, \"#e6f5d0\"], [0.7, \"#b8e186\"], [0.8, \"#7fbc41\"], [0.9, \"#4d9221\"], [1, \"#276419\"]], \"sequential\": [[0.0, \"#0d0887\"], [0.1111111111111111, \"#46039f\"], [0.2222222222222222, \"#7201a8\"], [0.3333333333333333, \"#9c179e\"], [0.4444444444444444, \"#bd3786\"], [0.5555555555555556, \"#d8576b\"], [0.6666666666666666, \"#ed7953\"], [0.7777777777777778, \"#fb9f3a\"], [0.8888888888888888, \"#fdca26\"], [1.0, \"#f0f921\"]], \"sequentialminus\": [[0.0, \"#0d0887\"], [0.1111111111111111, \"#46039f\"], [0.2222222222222222, \"#7201a8\"], [0.3333333333333333, \"#9c179e\"], [0.4444444444444444, \"#bd3786\"], [0.5555555555555556, \"#d8576b\"], [0.6666666666666666, \"#ed7953\"], [0.7777777777777778, \"#fb9f3a\"], [0.8888888888888888, \"#fdca26\"], [1.0, \"#f0f921\"]]}, \"colorway\": [\"#636efa\", \"#EF553B\", \"#00cc96\", \"#ab63fa\", \"#FFA15A\", \"#19d3f3\", \"#FF6692\", \"#B6E880\", \"#FF97FF\", \"#FECB52\"], \"font\": {\"color\": \"#2a3f5f\"}, \"geo\": {\"bgcolor\": \"white\", \"lakecolor\": \"white\", \"landcolor\": \"#E5ECF6\", \"showlakes\": true, \"showland\": true, \"subunitcolor\": \"white\"}, \"hoverlabel\": {\"align\": \"left\"}, \"hovermode\": \"closest\", \"mapbox\": {\"style\": \"light\"}, \"paper_bgcolor\": \"white\", \"plot_bgcolor\": \"#E5ECF6\", \"polar\": {\"angularaxis\": {\"gridcolor\": \"white\", \"linecolor\": \"white\", \"ticks\": \"\"}, \"bgcolor\": \"#E5ECF6\", \"radialaxis\": {\"gridcolor\": \"white\", \"linecolor\": \"white\", \"ticks\": \"\"}}, \"scene\": {\"xaxis\": {\"backgroundcolor\": \"#E5ECF6\", \"gridcolor\": \"white\", \"gridwidth\": 2, \"linecolor\": \"white\", \"showbackground\": true, \"ticks\": \"\", \"zerolinecolor\": \"white\"}, \"yaxis\": {\"backgroundcolor\": \"#E5ECF6\", \"gridcolor\": \"white\", \"gridwidth\": 2, \"linecolor\": \"white\", \"showbackground\": true, \"ticks\": \"\", \"zerolinecolor\": \"white\"}, \"zaxis\": {\"backgroundcolor\": \"#E5ECF6\", \"gridcolor\": \"white\", \"gridwidth\": 2, \"linecolor\": \"white\", \"showbackground\": true, \"ticks\": \"\", \"zerolinecolor\": \"white\"}}, \"shapedefaults\": {\"line\": {\"color\": \"#2a3f5f\"}}, \"ternary\": {\"aaxis\": {\"gridcolor\": \"white\", \"linecolor\": \"white\", \"ticks\": \"\"}, \"baxis\": {\"gridcolor\": \"white\", \"linecolor\": \"white\", \"ticks\": \"\"}, \"bgcolor\": \"#E5ECF6\", \"caxis\": {\"gridcolor\": \"white\", \"linecolor\": \"white\", \"ticks\": \"\"}}, \"title\": {\"x\": 0.05}, \"xaxis\": {\"automargin\": true, \"gridcolor\": \"white\", \"linecolor\": \"white\", \"ticks\": \"\", \"title\": {\"standoff\": 15}, \"zerolinecolor\": \"white\", \"zerolinewidth\": 2}, \"yaxis\": {\"automargin\": true, \"gridcolor\": \"white\", \"linecolor\": \"white\", \"ticks\": \"\", \"title\": {\"standoff\": 15}, \"zerolinecolor\": \"white\", \"zerolinewidth\": 2}}}, \"title\": {\"text\": \"Positive COVID-19 cases in each state<br>(Hover for details)\"}, \"updatemenus\": [{\"active\": 0, \"buttons\": [{\"args\": [{\"visible\": [true, false, false]}, {\"title\": \"Positive COVID-19 cases in each state<br>(Hover for details)\"}], \"label\": \"positive\", \"method\": \"update\"}, {\"args\": [{\"visible\": [false, true, false]}, {\"title\": \"Negative COVID-19 cases in each state<br>(Hover for details)\"}], \"label\": \"negative\", \"method\": \"update\"}, {\"args\": [{\"visible\": [false, false, true]}, {\"title\": \"COVID-19 death cases in each state<br>(Hover for details)\"}], \"label\": \"death\", \"method\": \"update\"}]}]},\n",
       "                        {\"responsive\": true}\n",
       "                    ).then(function(){\n",
       "                            \n",
       "var gd = document.getElementById('57323a4d-dc40-4cf0-9a18-d60b929de91e');\n",
       "var x = new MutationObserver(function (mutations, observer) {{\n",
       "        var display = window.getComputedStyle(gd).display;\n",
       "        if (!display || display === 'none') {{\n",
       "            console.log([gd, 'removed!']);\n",
       "            Plotly.purge(gd);\n",
       "            observer.disconnect();\n",
       "        }}\n",
       "}});\n",
       "\n",
       "// Listen for the removal of the full notebook cells\n",
       "var notebookContainer = gd.closest('#notebook-container');\n",
       "if (notebookContainer) {{\n",
       "    x.observe(notebookContainer, {childList: true});\n",
       "}}\n",
       "\n",
       "// Listen for the clearing of the current output cell\n",
       "var outputEl = gd.closest('.output');\n",
       "if (outputEl) {{\n",
       "    x.observe(outputEl, {childList: true});\n",
       "}}\n",
       "\n",
       "                        })\n",
       "                };\n",
       "                });\n",
       "            </script>\n",
       "        </div>"
      ]
     },
     "metadata": {},
     "output_type": "display_data"
    }
   ],
   "source": [
    "fig = go.Figure()\n",
    "\n",
    "#add traces for each map\n",
    "fig.add_trace(go.Scattergeo(\n",
    "        lon = data['long'],\n",
    "        lat = data['lat'],\n",
    "        text = data['posText'],\n",
    "        visible=True,\n",
    "        mode = 'markers',\n",
    "        marker = dict(\n",
    "            color = data['positive'],\n",
    "            colorbar_title = \"Number of cases\"            \n",
    "        )))\n",
    "\n",
    "fig.add_trace(go.Scattergeo(\n",
    "        lon = data['long'],\n",
    "        lat = data['lat'],\n",
    "        text = data['negText'],\n",
    "        visible=False,\n",
    "        mode = 'markers',\n",
    "        marker = dict(\n",
    "            color = data['negative'],\n",
    "            colorbar_title = \"Number of cases\"\n",
    "        )))\n",
    "\n",
    "fig.add_trace(go.Scattergeo(\n",
    "        lon = data['long'],\n",
    "        lat = data['lat'],\n",
    "        text = data['deaText'],\n",
    "        visible=False,\n",
    "        mode = 'markers',\n",
    "        marker = dict(\n",
    "            color = data['death'],\n",
    "            colorbar_title = \"Number of cases\"\n",
    "        )))\n",
    "\n",
    "fig.update_layout(\n",
    "        title = 'Positive COVID-19 cases in each state<br>(Hover for details)',\n",
    "        geo_scope='usa',\n",
    "    )\n",
    "\n",
    "#add buttons to switch between different maps\n",
    "fig.update_layout(\n",
    "    updatemenus=[\n",
    "        dict(\n",
    "            active=0,\n",
    "            buttons=list([\n",
    "                dict(label=\"positive\",\n",
    "                     method=\"update\",\n",
    "                     args=[{\"visible\": [True, False, False]},\n",
    "                           {\"title\": \"Positive COVID-19 cases in each state<br>(Hover for details)\"}]),\n",
    "                dict(label=\"negative\",\n",
    "                     method=\"update\",\n",
    "                     args=[{\"visible\": [False, True, False]},\n",
    "                           {\"title\": \"Negative COVID-19 cases in each state<br>(Hover for details)\"}]),\n",
    "                dict(label=\"death\",\n",
    "                     method=\"update\",\n",
    "                     args=[{\"visible\": [False, False, True]},\n",
    "                           {\"title\": \"COVID-19 death cases in each state<br>(Hover for details)\"}]),               \n",
    "            ]),\n",
    "        )\n",
    "    ])\n",
    "\n",
    "fig.show()"
   ]
  }
 ],
 "metadata": {
  "kernelspec": {
   "display_name": "Python 3",
   "language": "python",
   "name": "python3"
  },
  "language_info": {
   "codemirror_mode": {
    "name": "ipython",
    "version": 3
   },
   "file_extension": ".py",
   "mimetype": "text/x-python",
   "name": "python",
   "nbconvert_exporter": "python",
   "pygments_lexer": "ipython3",
   "version": "3.7.3"
  }
 },
 "nbformat": 4,
 "nbformat_minor": 2
}
