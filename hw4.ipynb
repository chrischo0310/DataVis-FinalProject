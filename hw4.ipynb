{
 "cells": [
  {
   "cell_type": "code",
   "execution_count": 1,
   "metadata": {},
   "outputs": [],
   "source": [
    "      import ipyleaflet \n",
    "      from ipyleaflet import Map      \n",
    "      import json\n",
    "      import pandas as pd\n",
    "      import os\n",
    "      import requests\n",
    "      import geopandas as gpd\n",
    "      from ipywidgets import link, FloatSlider\n",
    "      from branca.colormap import linear\n",
    "\n",
    "      def load_data(url, filename, file_type):\n",
    "          r = requests.get(url)\n",
    "          with open(filename, 'w') as f:\n",
    "              f.write(r.content.decode(\"utf-8\"))\n",
    "          with open(filename, 'r') as f:\n",
    "              return file_type(f)\n",
    "            \n",
    "      filename = 'COVID19_Cases_US.shp'\n",
    "      data = gpd.read_file(filename)\n",
    "      \n",
    "      #cleaning data to match total # of states to json file\n",
    "      data=data[data['Province_S'] != 'District of Columbia']\n",
    "      data=data[data['Province_S'] != 'Northern Marinara Islands']      \n",
    "      "
   ]
  },
  {
   "cell_type": "code",
   "execution_count": 2,
   "metadata": {},
   "outputs": [
    {
     "data": {
      "application/vnd.jupyter.widget-view+json": {
       "model_id": "5691abeb4fbc44f5a29bfb030e6f59eb",
       "version_major": 2,
       "version_minor": 0
      },
      "text/plain": [
       "Map(center=[43, -100], controls=(ZoomControl(options=['position', 'zoom_in_text', 'zoom_in_title', 'zoom_out_t…"
      ]
     },
     "metadata": {},
     "output_type": "display_data"
    }
   ],
   "source": [
    "    geo_json_data = load_data('https://raw.githubusercontent.com/jupyter-widgets/ipyleaflet/master/examples/us-states.json','us-states.json',json.load)\n",
    "    \n",
    "    group_by_state = data.loc[:, ['Province_S','Confirmed']].groupby('Province_S')\n",
    "    group_by_state.head()\n",
    "    group_by_state_sum = group_by_state.sum()\n",
    "    \n",
    "    \n",
    "    state_id = []\n",
    "    for i in range(len(geo_json_data['features'])):\n",
    "             state_id.append(geo_json_data['features'][i]['id'])\n",
    "            \n",
    "    corona_choro_data =  dict(zip(state_id, group_by_state_sum['Confirmed'].tolist()))\n",
    "\n",
    "\n",
    "    layer = ipyleaflet.Choropleth(\n",
    "          geo_data=geo_json_data,\n",
    "          choro_data=corona_choro_data,\n",
    "          colormap=linear.YlOrRd_04,\n",
    "          border_color='black',\n",
    "          style={'fillOpacity': 0.8, 'dashArray': '5, 5'})\n",
    "\n",
    "    m = ipyleaflet.Map(center = (43,-100), zoom = 4)\n",
    "    m.add_layer(layer)\n",
    "    m  \n"
   ]
  },
  {
   "cell_type": "code",
   "execution_count": null,
   "metadata": {},
   "outputs": [],
   "source": []
  }
 ],
 "metadata": {
  "kernelspec": {
   "display_name": "Python 3",
   "language": "python",
   "name": "python3"
  },
  "language_info": {
   "codemirror_mode": {
    "name": "ipython",
    "version": 3
   },
   "file_extension": ".py",
   "mimetype": "text/x-python",
   "name": "python",
   "nbconvert_exporter": "python",
   "pygments_lexer": "ipython3",
   "version": "3.7.0"
  }
 },
 "nbformat": 4,
 "nbformat_minor": 2
}
